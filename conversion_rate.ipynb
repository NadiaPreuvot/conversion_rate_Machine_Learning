{
 "cells": [
  {
   "cell_type": "markdown",
   "metadata": {},
   "source": [
    "<u><h1><center>**Conversion Rate Challenge**\n",
    "-------------------------------\n"
   ]
  },
  {
   "cell_type": "markdown",
   "metadata": {},
   "source": [
    "# <u> Part 1 : Import libraries and load the dataset"
   ]
  },
  {
   "cell_type": "markdown",
   "metadata": {},
   "source": [
    "<u><h4>1.Import useful modules"
   ]
  },
  {
   "cell_type": "code",
   "execution_count": 1,
   "metadata": {},
   "outputs": [],
   "source": [
    "# Import libraries\n",
    "\n",
    "import pandas as pd\n",
    "import numpy as np\n",
    "import seaborn as sns\n",
    "import matplotlib.pyplot as plt\n",
    "from sklearn.model_selection import train_test_split\n",
    "from sklearn.pipeline import Pipeline\n",
    "from sklearn.preprocessing import StandardScaler, LabelEncoder, OneHotEncoder\n",
    "from sklearn.compose import ColumnTransformer\n",
    "from sklearn.linear_model import LogisticRegression\n",
    "from sklearn.metrics import f1_score,confusion_matrix, classification_report, ConfusionMatrixDisplay\n",
    "from sklearn.model_selection import GridSearchCV\n",
    "from sklearn.ensemble import RandomForestClassifier\n",
    "from sklearn.svm import SVC\n",
    "from xgboost import XGBClassifier\n",
    "from sklearn.ensemble import BaggingClassifier\n",
    "from sklearn.ensemble import AdaBoostClassifier\n",
    "from sklearn.ensemble import VotingClassifier"
   ]
  },
  {
   "cell_type": "markdown",
   "metadata": {},
   "source": [
    "<u><h4>2.Load the data"
   ]
  },
  {
   "cell_type": "code",
   "execution_count": 2,
   "metadata": {},
   "outputs": [
    {
     "name": "stdout",
     "output_type": "stream",
     "text": [
      "loading dataset...\n",
      "...done\n",
      "\n"
     ]
    }
   ],
   "source": [
    "# Import dataset\n",
    "print(\"loading dataset...\")\n",
    "df=pd.read_csv(\"conversion_data_train.csv\")\n",
    "print(\"...done\")\n",
    "print()"
   ]
  },
  {
   "cell_type": "code",
   "execution_count": 3,
   "metadata": {},
   "outputs": [
    {
     "name": "stdout",
     "output_type": "stream",
     "text": [
      "Set with labels (our train+test) : (284580, 6)\n",
      "\n"
     ]
    }
   ],
   "source": [
    "print('Set with labels (our train+test) :', df.shape)\n",
    "print()"
   ]
  },
  {
   "cell_type": "markdown",
   "metadata": {},
   "source": [
    "# <u> Part 2: EDA, Preprocessing, and Baseline Model"
   ]
  },
  {
   "cell_type": "markdown",
   "metadata": {},
   "source": [
    "<u><h4>1.Understand the data"
   ]
  },
  {
   "cell_type": "markdown",
   "metadata": {},
   "source": [
    "As the data is quite big, we will proceed with a sample of the dataset."
   ]
  },
  {
   "cell_type": "code",
   "execution_count": 4,
   "metadata": {},
   "outputs": [],
   "source": [
    "data_sample=df.sample(20000,random_state=0)"
   ]
  },
  {
   "cell_type": "code",
   "execution_count": 5,
   "metadata": {},
   "outputs": [
    {
     "name": "stdout",
     "output_type": "stream",
     "text": [
      "Number of rows: 20000\n",
      "Number of columns: 6\n",
      "\n",
      "Dsipaly of dataset: \n"
     ]
    },
    {
     "data": {
      "text/html": [
       "<div>\n",
       "<style scoped>\n",
       "    .dataframe tbody tr th:only-of-type {\n",
       "        vertical-align: middle;\n",
       "    }\n",
       "\n",
       "    .dataframe tbody tr th {\n",
       "        vertical-align: top;\n",
       "    }\n",
       "\n",
       "    .dataframe thead th {\n",
       "        text-align: right;\n",
       "    }\n",
       "</style>\n",
       "<table border=\"1\" class=\"dataframe\">\n",
       "  <thead>\n",
       "    <tr style=\"text-align: right;\">\n",
       "      <th></th>\n",
       "      <th>country</th>\n",
       "      <th>age</th>\n",
       "      <th>new_user</th>\n",
       "      <th>source</th>\n",
       "      <th>total_pages_visited</th>\n",
       "      <th>converted</th>\n",
       "    </tr>\n",
       "  </thead>\n",
       "  <tbody>\n",
       "    <tr>\n",
       "      <th>149371</th>\n",
       "      <td>US</td>\n",
       "      <td>20</td>\n",
       "      <td>1</td>\n",
       "      <td>Ads</td>\n",
       "      <td>7</td>\n",
       "      <td>0</td>\n",
       "    </tr>\n",
       "    <tr>\n",
       "      <th>221325</th>\n",
       "      <td>US</td>\n",
       "      <td>31</td>\n",
       "      <td>1</td>\n",
       "      <td>Seo</td>\n",
       "      <td>5</td>\n",
       "      <td>0</td>\n",
       "    </tr>\n",
       "    <tr>\n",
       "      <th>14016</th>\n",
       "      <td>US</td>\n",
       "      <td>28</td>\n",
       "      <td>0</td>\n",
       "      <td>Seo</td>\n",
       "      <td>4</td>\n",
       "      <td>0</td>\n",
       "    </tr>\n",
       "    <tr>\n",
       "      <th>257982</th>\n",
       "      <td>Germany</td>\n",
       "      <td>25</td>\n",
       "      <td>1</td>\n",
       "      <td>Ads</td>\n",
       "      <td>4</td>\n",
       "      <td>0</td>\n",
       "    </tr>\n",
       "    <tr>\n",
       "      <th>59983</th>\n",
       "      <td>US</td>\n",
       "      <td>44</td>\n",
       "      <td>0</td>\n",
       "      <td>Ads</td>\n",
       "      <td>7</td>\n",
       "      <td>0</td>\n",
       "    </tr>\n",
       "  </tbody>\n",
       "</table>\n",
       "</div>"
      ],
      "text/plain": [
       "        country  age  new_user source  total_pages_visited  converted\n",
       "149371       US   20         1    Ads                    7          0\n",
       "221325       US   31         1    Seo                    5          0\n",
       "14016        US   28         0    Seo                    4          0\n",
       "257982  Germany   25         1    Ads                    4          0\n",
       "59983        US   44         0    Ads                    7          0"
      ]
     },
     "metadata": {},
     "output_type": "display_data"
    },
    {
     "name": "stdout",
     "output_type": "stream",
     "text": [
      "\n",
      "\n",
      "Basics statistics: \n"
     ]
    },
    {
     "data": {
      "text/html": [
       "<div>\n",
       "<style scoped>\n",
       "    .dataframe tbody tr th:only-of-type {\n",
       "        vertical-align: middle;\n",
       "    }\n",
       "\n",
       "    .dataframe tbody tr th {\n",
       "        vertical-align: top;\n",
       "    }\n",
       "\n",
       "    .dataframe thead th {\n",
       "        text-align: right;\n",
       "    }\n",
       "</style>\n",
       "<table border=\"1\" class=\"dataframe\">\n",
       "  <thead>\n",
       "    <tr style=\"text-align: right;\">\n",
       "      <th></th>\n",
       "      <th>country</th>\n",
       "      <th>age</th>\n",
       "      <th>new_user</th>\n",
       "      <th>source</th>\n",
       "      <th>total_pages_visited</th>\n",
       "      <th>converted</th>\n",
       "    </tr>\n",
       "  </thead>\n",
       "  <tbody>\n",
       "    <tr>\n",
       "      <th>count</th>\n",
       "      <td>20000</td>\n",
       "      <td>20000.000000</td>\n",
       "      <td>20000.000000</td>\n",
       "      <td>20000</td>\n",
       "      <td>20000.000000</td>\n",
       "      <td>20000.000000</td>\n",
       "    </tr>\n",
       "    <tr>\n",
       "      <th>unique</th>\n",
       "      <td>4</td>\n",
       "      <td>NaN</td>\n",
       "      <td>NaN</td>\n",
       "      <td>3</td>\n",
       "      <td>NaN</td>\n",
       "      <td>NaN</td>\n",
       "    </tr>\n",
       "    <tr>\n",
       "      <th>top</th>\n",
       "      <td>US</td>\n",
       "      <td>NaN</td>\n",
       "      <td>NaN</td>\n",
       "      <td>Seo</td>\n",
       "      <td>NaN</td>\n",
       "      <td>NaN</td>\n",
       "    </tr>\n",
       "    <tr>\n",
       "      <th>freq</th>\n",
       "      <td>11234</td>\n",
       "      <td>NaN</td>\n",
       "      <td>NaN</td>\n",
       "      <td>9852</td>\n",
       "      <td>NaN</td>\n",
       "      <td>NaN</td>\n",
       "    </tr>\n",
       "    <tr>\n",
       "      <th>mean</th>\n",
       "      <td>NaN</td>\n",
       "      <td>30.538600</td>\n",
       "      <td>0.679100</td>\n",
       "      <td>NaN</td>\n",
       "      <td>4.889400</td>\n",
       "      <td>0.033900</td>\n",
       "    </tr>\n",
       "    <tr>\n",
       "      <th>std</th>\n",
       "      <td>NaN</td>\n",
       "      <td>8.273212</td>\n",
       "      <td>0.466834</td>\n",
       "      <td>NaN</td>\n",
       "      <td>3.384397</td>\n",
       "      <td>0.180976</td>\n",
       "    </tr>\n",
       "    <tr>\n",
       "      <th>min</th>\n",
       "      <td>NaN</td>\n",
       "      <td>17.000000</td>\n",
       "      <td>0.000000</td>\n",
       "      <td>NaN</td>\n",
       "      <td>1.000000</td>\n",
       "      <td>0.000000</td>\n",
       "    </tr>\n",
       "    <tr>\n",
       "      <th>25%</th>\n",
       "      <td>NaN</td>\n",
       "      <td>24.000000</td>\n",
       "      <td>0.000000</td>\n",
       "      <td>NaN</td>\n",
       "      <td>2.000000</td>\n",
       "      <td>0.000000</td>\n",
       "    </tr>\n",
       "    <tr>\n",
       "      <th>50%</th>\n",
       "      <td>NaN</td>\n",
       "      <td>30.000000</td>\n",
       "      <td>1.000000</td>\n",
       "      <td>NaN</td>\n",
       "      <td>4.000000</td>\n",
       "      <td>0.000000</td>\n",
       "    </tr>\n",
       "    <tr>\n",
       "      <th>75%</th>\n",
       "      <td>NaN</td>\n",
       "      <td>36.000000</td>\n",
       "      <td>1.000000</td>\n",
       "      <td>NaN</td>\n",
       "      <td>7.000000</td>\n",
       "      <td>0.000000</td>\n",
       "    </tr>\n",
       "    <tr>\n",
       "      <th>max</th>\n",
       "      <td>NaN</td>\n",
       "      <td>123.000000</td>\n",
       "      <td>1.000000</td>\n",
       "      <td>NaN</td>\n",
       "      <td>28.000000</td>\n",
       "      <td>1.000000</td>\n",
       "    </tr>\n",
       "  </tbody>\n",
       "</table>\n",
       "</div>"
      ],
      "text/plain": [
       "       country           age      new_user source  total_pages_visited  \\\n",
       "count    20000  20000.000000  20000.000000  20000         20000.000000   \n",
       "unique       4           NaN           NaN      3                  NaN   \n",
       "top         US           NaN           NaN    Seo                  NaN   \n",
       "freq     11234           NaN           NaN   9852                  NaN   \n",
       "mean       NaN     30.538600      0.679100    NaN             4.889400   \n",
       "std        NaN      8.273212      0.466834    NaN             3.384397   \n",
       "min        NaN     17.000000      0.000000    NaN             1.000000   \n",
       "25%        NaN     24.000000      0.000000    NaN             2.000000   \n",
       "50%        NaN     30.000000      1.000000    NaN             4.000000   \n",
       "75%        NaN     36.000000      1.000000    NaN             7.000000   \n",
       "max        NaN    123.000000      1.000000    NaN            28.000000   \n",
       "\n",
       "           converted  \n",
       "count   20000.000000  \n",
       "unique           NaN  \n",
       "top              NaN  \n",
       "freq             NaN  \n",
       "mean        0.033900  \n",
       "std         0.180976  \n",
       "min         0.000000  \n",
       "25%         0.000000  \n",
       "50%         0.000000  \n",
       "75%         0.000000  \n",
       "max         1.000000  "
      ]
     },
     "metadata": {},
     "output_type": "display_data"
    },
    {
     "name": "stdout",
     "output_type": "stream",
     "text": [
      "\n",
      "Percentage of missing values: \n"
     ]
    },
    {
     "data": {
      "text/plain": [
       "country                0.0\n",
       "age                    0.0\n",
       "new_user               0.0\n",
       "source                 0.0\n",
       "total_pages_visited    0.0\n",
       "converted              0.0\n",
       "dtype: float64"
      ]
     },
     "metadata": {},
     "output_type": "display_data"
    }
   ],
   "source": [
    "#Basics stats\n",
    "print(\"Number of rows: {}\".format(data_sample.shape[0]))\n",
    "print(\"Number of columns: {}\".format(data_sample.shape[1]))\n",
    "print()\n",
    "\n",
    "print (\"Dsipaly of dataset: \")\n",
    "display(data_sample.head())\n",
    "print()\n",
    "print()\n",
    "\n",
    "print (\"Basics statistics: \")\n",
    "df_desc= data_sample.describe(include=\"all\")\n",
    "display(df_desc)\n",
    "print()\n",
    "\n",
    "print(\"Percentage of missing values: \")\n",
    "display(100*data_sample.isnull().sum()/data_sample.shape[0])"
   ]
  },
  {
   "cell_type": "markdown",
   "metadata": {},
   "source": [
    "\n",
    "</u><ins><center> <font color=\"bleu\"><ins>Basic statistics summary</font> </center>\n",
    " <li> The dataset has 20000 rows and 6 columns.\n",
    " <li> The majority of the users are from the United States\n",
    " <li> The average age of the users is 30.5 years, with an outlier of 123 years old, what is not probable.\n",
    " <li> Almost 68% of the users are new users.\n",
    " <li>The most common source of users is \"Seo\".\n",
    " <li>The total number of pages visited by the users is 4.89 pages. Some users have visited up to 28 pages.\n",
    " <li>Only 3,3% of the users have converted, what is a very low conversion rate. it can suggested that our data is unbalanced with a low rate of conversion.\n",
    " <li>We do not have any missing values"
   ]
  },
  {
   "cell_type": "markdown",
   "metadata": {},
   "source": [
    "<u><h4> 2.Data visualisation"
   ]
  },
  {
   "cell_type": "markdown",
   "metadata": {},
   "source": [
    "<u>2.1 Univariate analysis"
   ]
  },
  {
   "cell_type": "code",
   "execution_count": 6,
   "metadata": {},
   "outputs": [
    {
     "data": {
      "image/png": "[encoded data removed]",
      "text/plain": [
       "<Figure size 2000x1200 with 4 Axes>"
      ]
     },
     "metadata": {},
     "output_type": "display_data"
    }
   ],
   "source": [
    "# Set the style of seaborn\n",
    "sns.set_style(\"whitegrid\")\n",
    "\n",
    "# Create a figure object\n",
    "plt.figure(figsize=(20, 12))\n",
    "\n",
    "# Distribution of age\n",
    "plt.subplot(2, 2, 1)\n",
    "sns.histplot(data_sample['age'], kde=True, bins=30)\n",
    "plt.title('Distribution of Age', weight='bold')\n",
    "plt.xlabel('Age')\n",
    "plt.ylabel('Count')\n",
    "\n",
    "# Distribution of users by country\n",
    "plt.subplot(2, 2, 2)\n",
    "sns.countplot(data=data_sample, x='country', order=data_sample['country'].value_counts().index)\n",
    "plt.title('Distribution of Users by Country', weight='bold')\n",
    "plt.xlabel('Country')\n",
    "plt.ylabel('Count')\n",
    "\n",
    "# Distribution of users by source\n",
    "plt.subplot(2, 2, 3)\n",
    "sns.countplot(data=data_sample, x='source', order=data_sample['source'].value_counts().index)\n",
    "plt.title('Distribution of Users by Source', weight='bold')\n",
    "plt.xlabel('Source')\n",
    "plt.ylabel('Count')\n",
    "\n",
    "# Distribution of total pages visited\n",
    "plt.subplot(2, 2, 4)\n",
    "sns.histplot(data_sample['total_pages_visited'], kde=True, bins=20)\n",
    "plt.title('Distribution of Total Pages Visited',weight='bold')\n",
    "plt.xlabel('Total Pages Visited')\n",
    "plt.ylabel('Count')\n",
    "\n",
    "# Adjust layout\n",
    "plt.tight_layout()\n",
    "plt.show()\n"
   ]
  },
  {
   "cell_type": "markdown",
   "metadata": {},
   "source": [
    "</u><ins><center> <font color=\"bleu\"><ins>Observations</font> </center>\n",
    "</br>\n",
    "- 1. <ins> Distribution of age </ins> : Most users are between 20 and 40 years old, peaking around the late 20s. As mentionned before, there seem to be a few outliers with very high ages.\n",
    "- 2. <ins>Distribution of users by country</ins> : The US has the largest numbers of users, followed by China, the UK and finally Germany.\n",
    "- 3. <ins>Distribution of users by source</ins> : The majority of users come from the \"Seo\" source, followed by \"Ads\" and \"Direct\".\n",
    "- 4. <ins>Distribution of total pages visited</ins> : Most users visit between 1 and 5 pages, with a gradual decrease in the number of users as the number of pages visited increases.\n",
    "\n"
   ]
  },
  {
   "cell_type": "markdown",
   "metadata": {},
   "source": [
    "<u>2.2. Bivariate analysis"
   ]
  },
  {
   "cell_type": "code",
   "execution_count": 7,
   "metadata": {},
   "outputs": [
    {
     "data": {
      "image/png": "[encoded data removed]",
      "text/plain": [
       "<Figure size 2000x1500 with 4 Axes>"
      ]
     },
     "metadata": {},
     "output_type": "display_data"
    }
   ],
   "source": [
    "# Create a figure object\n",
    "plt.figure(figsize=(20, 15))\n",
    "\n",
    "# Distribution of conversion by country\n",
    "plt.subplot(2, 2, 1)\n",
    "sns.countplot(data=data_sample, x='country', hue='converted', order=data_sample['country'].value_counts().index)\n",
    "plt.title('Distribution of Conversion by Country', weight='bold')\n",
    "plt.xlabel('Country')\n",
    "plt.ylabel('Count')\n",
    "plt.legend(title='Converted')\n",
    "\n",
    "# Distribution of conversion by source\n",
    "plt.subplot(2, 2, 2)\n",
    "sns.countplot(data=data_sample, x='source', hue='converted', order=data_sample['source'].value_counts().index)\n",
    "plt.title('Distribution of Conversion by Source', weight='bold')\n",
    "plt.xlabel('Source')\n",
    "plt.ylabel('Count')\n",
    "plt.legend(title='Converted')\n",
    "\n",
    "# Relationship between age and conversion\n",
    "plt.subplot(2, 2, 3)\n",
    "sns.boxplot(data=data_sample, x='converted', y='age')\n",
    "plt.title('Relationship between Age and Conversion', weight='bold')\n",
    "plt.xlabel('Converted')\n",
    "plt.ylabel('Age')\n",
    "\n",
    "# Distribution of new users and conversions\n",
    "plt.subplot(2, 2, 4)\n",
    "sns.countplot(data=data_sample, x='new_user', hue='converted')\n",
    "plt.title('Distribution of New Users and Conversions', weight='bold')\n",
    "plt.xlabel('New User')\n",
    "plt.ylabel('Count')\n",
    "plt.legend(title='Converted')\n",
    "\n",
    "# Adjust layout\n",
    "plt.tight_layout()\n",
    "plt.show()\n"
   ]
  },
  {
   "cell_type": "markdown",
   "metadata": {},
   "source": [
    "<center> <font color=\"bleu\"> <ins>Observations</font>\n",
    "</center>\n",
    "</br>\n",
    "\n",
    "\n",
    " - 1. <ins>Distribution of conversion by country</ins>: Users from the US have the highest conversion rate, followed by the UK and Germany.</br>\n",
    "  China, despite a large number of users, has a very low conversion rate.\n",
    "\n",
    "- 2. <ins>Distribution of conversion by source</ins> : All three sources (Seo, Ads, Direct) show similar conversion rates, although \"Seo\" seems to have a slight advantage.\n",
    "\n",
    "- 3. <ins>Relationship between Age and Conversion</ins>: Users who convert tend to be slightly younger than those who don't convert.\n",
    "\n",
    "- 4. <ins>Distribution of new users and conversions</ins> :Existing users (new_user = 0) have a significantly higher conversion rate than new users."
   ]
  },
  {
   "cell_type": "markdown",
   "metadata": {},
   "source": [
    "<u><h4>3. Data preprocessing"
   ]
  },
  {
   "cell_type": "code",
   "execution_count": 8,
   "metadata": {},
   "outputs": [
    {
     "name": "stdout",
     "output_type": "stream",
     "text": [
      "Dropping outliers in Age...\n",
      "...\n",
      "Done.\n",
      "Done. Number of lines remaining :  19999\n",
      "\n"
     ]
    },
    {
     "data": {
      "text/plain": [
       "count    19999.000000\n",
       "mean        30.533977\n",
       "std          8.247541\n",
       "min         17.000000\n",
       "25%         24.000000\n",
       "50%         30.000000\n",
       "75%         36.000000\n",
       "max         72.000000\n",
       "Name: age, dtype: float64"
      ]
     },
     "execution_count": 8,
     "metadata": {},
     "output_type": "execute_result"
    }
   ],
   "source": [
    "# Handling outliers in the \"age\" feature\n",
    "\n",
    "print('Dropping outliers in Age...')\n",
    "print(\"...\")\n",
    "threshold_age = 90\n",
    "data_sample = data_sample[data_sample['age'] <= threshold_age]\n",
    "\n",
    "print('Done.')\n",
    "\n",
    "print('Done. Number of lines remaining : ', data_sample.shape[0])\n",
    "print()\n",
    "\n",
    "# Verify the changes\n",
    "data_sample['age'].describe()\n"
   ]
  },
  {
   "cell_type": "code",
   "execution_count": 9,
   "metadata": {},
   "outputs": [
    {
     "name": "stdout",
     "output_type": "stream",
     "text": [
      "Separating labels from features...\n",
      "...\n",
      "...Done.\n",
      "\n",
      " Y : \n",
      "149371    0\n",
      "221325    0\n",
      "14016     0\n",
      "257982    0\n",
      "59983     0\n",
      "Name: converted, dtype: int64\n",
      "\n",
      " X : \n",
      "        country  age  new_user source  total_pages_visited\n",
      "149371       US   20         1    Ads                    7\n",
      "221325       US   31         1    Seo                    5\n",
      "14016        US   28         0    Seo                    4\n",
      "257982  Germany   25         1    Ads                    4\n",
      "59983        US   44         0    Ads                    7\n",
      "\n"
     ]
    }
   ],
   "source": [
    "# Separate target variable Y from features X\n",
    "print(\"Separating labels from features...\")\n",
    "print(\"...\")\n",
    "features_list = [\"country\", \"age\", \"new_user\", \"source\", \"total_pages_visited\"]\n",
    "target_variable = \"converted\"\n",
    "\n",
    "Y = data_sample.loc[: , target_variable]\n",
    "X = data_sample.loc[:,features_list] \n",
    "\n",
    "print(\"...Done.\")\n",
    "print()\n",
    "\n",
    "print(\" Y : \")\n",
    "print(Y.head())\n",
    "print()\n",
    "print(\" X : \")\n",
    "print(X.head())\n",
    "print()\n"
   ]
  },
  {
   "cell_type": "code",
   "execution_count": 10,
   "metadata": {},
   "outputs": [
    {
     "name": "stdout",
     "output_type": "stream",
     "text": [
      "Found numeric features  ['age', 'new_user', 'total_pages_visited']\n",
      "Found categorical features  ['country', 'source']\n"
     ]
    }
   ],
   "source": [
    "# Automatically detect names of numeric/categorical columns\n",
    "numeric_features =[]\n",
    "categorical_features = []\n",
    "for i,t in X.dtypes.items():\n",
    "    if ('float' in str(t)) or ('int' in str(t)) :\n",
    "        numeric_features.append(i)\n",
    "    else :\n",
    "        categorical_features.append(i)\n",
    "\n",
    "print('Found numeric features ', numeric_features)\n",
    "print('Found categorical features ', categorical_features)"
   ]
  },
  {
   "cell_type": "code",
   "execution_count": 11,
   "metadata": {},
   "outputs": [
    {
     "name": "stdout",
     "output_type": "stream",
     "text": [
      "Dividing into Train and Test sets...\n",
      "...Done.\n",
      "\n"
     ]
    }
   ],
   "source": [
    "# Divide dataset into Train set and Test set\n",
    "print(\"Dividing into Train and Test sets...\")\n",
    "X_train, X_test, Y_train, Y_test = train_test_split(X, Y, test_size= 0.1, random_state= 0, stratify= Y)\n",
    "print(\"...Done.\")\n",
    "print()"
   ]
  },
  {
   "cell_type": "markdown",
   "metadata": {},
   "source": [
    "<u>3.1 Preprocessing"
   ]
  },
  {
   "cell_type": "code",
   "execution_count": 12,
   "metadata": {},
   "outputs": [],
   "source": [
    "# Create pipeline for numeric features\n",
    "numeric_transformer = Pipeline(steps=[\n",
    "    ('scaler', StandardScaler())\n",
    "])\n",
    "\n",
    "# Create pipeline for categorical features\n",
    "categorical_transformer = Pipeline(steps=[\n",
    "    ('encoder', OneHotEncoder(drop= \"first\"))\n",
    "])\n",
    "\n",
    "# Use ColumnTransformer to make a preprocessor object that describes all the treatments to be done\n",
    "preprocessor= ColumnTransformer(\n",
    "    transformers=[\n",
    "       (\"num\" , numeric_transformer, numeric_features),\n",
    "       (\"cat\" ,  categorical_transformer, categorical_features)\n",
    "])"
   ]
  },
  {
   "cell_type": "code",
   "execution_count": 13,
   "metadata": {},
   "outputs": [
    {
     "name": "stdout",
     "output_type": "stream",
     "text": [
      "Performing preprocessings on train set\n",
      "       country  age  new_user source  total_pages_visited\n",
      "11657       US   41         1    Ads                    3\n",
      "184684      UK   30         1    Seo                    5\n",
      "42774       US   35         1    Seo                    3\n",
      "75256       US   25         0    Ads                    1\n",
      "163323   China   22         0    Ads                    6\n",
      "...Done.\n",
      "[[ 1.27077167  0.69066838 -0.56068666  0.          0.          1.\n",
      "   0.          0.        ]\n",
      " [-0.06475648  0.69066838  0.03212911  0.          1.          0.\n",
      "   0.          1.        ]\n",
      " [ 0.54230177  0.69066838 -0.56068666  0.          0.          1.\n",
      "   0.          1.        ]\n",
      " [-0.67181473 -1.44787285 -1.15350243  0.          0.          1.\n",
      "   0.          0.        ]\n",
      " [-1.03604968 -1.44787285  0.32853699  0.          0.          0.\n",
      "   0.          0.        ]]\n",
      "\n",
      "Performing preprocessings on test set\n",
      "       country  age  new_user  source  total_pages_visited\n",
      "20136       US   33         1  Direct                    8\n",
      "55490    China   38         1     Ads                    6\n",
      "15336       UK   24         1     Seo                    3\n",
      "225568      US   45         1     Seo                    6\n",
      "257819      UK   29         0     Seo                    7\n",
      "...Done.\n",
      "[[ 0.29947847  0.69066838  0.92135276  0.          0.          1.\n",
      "   1.          0.        ]\n",
      " [ 0.90653672  0.69066838  0.32853699  0.          0.          0.\n",
      "   0.          0.        ]\n",
      " [-0.79322638  0.69066838 -0.56068666  0.          1.          0.\n",
      "   0.          1.        ]\n",
      " [ 1.75641827  0.69066838  0.32853699  0.          0.          1.\n",
      "   0.          1.        ]\n",
      " [-0.18616813 -1.44787285  0.62494488  0.          1.          0.\n",
      "   0.          1.        ]]\n",
      "\n"
     ]
    }
   ],
   "source": [
    "# Preprocessings on Train set\n",
    "print(\"Performing preprocessings on train set\")\n",
    "print(X_train.head())\n",
    "X_train = preprocessor.fit_transform(X_train)\n",
    "print(\"...Done.\")\n",
    "print(X_train[0:5]) \n",
    "print()\n",
    "\n",
    "# Preprocessing on Test set\n",
    "print(\"Performing preprocessings on test set\")\n",
    "print(X_test.head())\n",
    "X_test = preprocessor.transform(X_test)\n",
    "print(\"...Done.\")\n",
    "print(X_test[0:5, :])# numpy array\n",
    "print()"
   ]
  },
  {
   "cell_type": "markdown",
   "metadata": {},
   "source": [
    "<u><h4> 4. Train a baseline model"
   ]
  },
  {
   "cell_type": "markdown",
   "metadata": {},
   "source": [
    "<u> <center><font color=\"pink\"> A. First model"
   ]
  },
  {
   "cell_type": "markdown",
   "metadata": {},
   "source": [
    "<U>A.1 Logistic Regression"
   ]
  },
  {
   "cell_type": "code",
   "execution_count": 14,
   "metadata": {},
   "outputs": [
    {
     "name": "stdout",
     "output_type": "stream",
     "text": [
      "Train model...\n",
      "...Done.\n"
     ]
    }
   ],
   "source": [
    "# Create a model instance and train it\n",
    "print(\"Train model...\")\n",
    "classifier = LogisticRegression()\n",
    "classifier.fit(X_train, Y_train)\n",
    "print(\"...Done.\")"
   ]
  },
  {
   "cell_type": "code",
   "execution_count": 15,
   "metadata": {},
   "outputs": [
    {
     "name": "stdout",
     "output_type": "stream",
     "text": [
      "Train accuracy : 0.9847213734096338\n",
      "Test accuracy : 0.989\n"
     ]
    }
   ],
   "source": [
    "print('Train accuracy : {}\\nTest accuracy : {}'.format(classifier.score(X_train, Y_train), classifier.score(X_test, Y_test)))"
   ]
  },
  {
   "cell_type": "markdown",
   "metadata": {},
   "source": [
    "<u>A.2 Performance assessment\n"
   ]
  },
  {
   "cell_type": "markdown",
   "metadata": {},
   "source": [
    "<li>A.2.1.<ins> Predictions"
   ]
  },
  {
   "cell_type": "code",
   "execution_count": 16,
   "metadata": {},
   "outputs": [
    {
     "name": "stdout",
     "output_type": "stream",
     "text": [
      "Predictions on training set...\n",
      "...Done.\n",
      "[0 0 0 ... 0 0 0]\n",
      "\n",
      "Predictions on test set...\n",
      "...Done.\n",
      "[0 0 0 ... 0 0 0]\n",
      "\n"
     ]
    }
   ],
   "source": [
    "# Predictons on training set\n",
    "print( \"Predictions on training set...\")\n",
    "Y_train_pred = classifier.predict(X_train)\n",
    "print(\"...Done.\")\n",
    "print(Y_train_pred)\n",
    "print()\n",
    "\n",
    "# Predictions on test set\n",
    "print( \"Predictions on test set...\")\n",
    "Y_test_pred = classifier.predict(X_test)\n",
    "print(\"...Done.\")\n",
    "print(Y_test_pred)\n",
    "print()"
   ]
  },
  {
   "cell_type": "markdown",
   "metadata": {},
   "source": [
    "<li>A.2.2.<ins> Probabilities"
   ]
  },
  {
   "cell_type": "code",
   "execution_count": 17,
   "metadata": {},
   "outputs": [
    {
     "name": "stdout",
     "output_type": "stream",
     "text": [
      "Probabilities on training set...\n",
      "...Done.\n",
      "[[9.99923926e-01 7.60736084e-05]\n",
      " [9.99014150e-01 9.85849861e-04]\n",
      " [9.99904567e-01 9.54326428e-05]\n",
      " [9.99755347e-01 2.44652524e-04]\n",
      " [9.98293611e-01 1.70638902e-03]]\n",
      "\n",
      "Probabilities on training set...\n",
      "...Done.\n",
      "[[9.94362637e-01 5.63736338e-03]\n",
      " [9.99887220e-01 1.12779981e-04]\n",
      " [9.99657003e-01 3.42996611e-04]\n",
      " [9.99571424e-01 4.28575949e-04]\n",
      " [9.79898202e-01 2.01017975e-02]]\n",
      "\n"
     ]
    }
   ],
   "source": [
    "# It's also possible to get the probabilities estimated by the model:\n",
    "#Train set\n",
    "print(\"Probabilities on training set...\")\n",
    "Y_train_proba = classifier.predict_proba(X_train)\n",
    "print(\"...Done.\")\n",
    "print(Y_train_proba[:5])\n",
    "print()\n",
    "\n",
    "#Test set\n",
    "print(\"Probabilities on training set...\")\n",
    "Y_test_proba = classifier.predict_proba(X_test)\n",
    "print(\"...Done.\")\n",
    "print(Y_test_proba[:5])\n",
    "print()\n"
   ]
  },
  {
   "cell_type": "markdown",
   "metadata": {},
   "source": [
    "<li>A.2.3.<ins> F1_Score"
   ]
  },
  {
   "cell_type": "code",
   "execution_count": 18,
   "metadata": {},
   "outputs": [
    {
     "name": "stdout",
     "output_type": "stream",
     "text": [
      "f1 score Logistic Regression on training set :  0.7506799637352674\n",
      "f1 score Logistic Regression on test set :  0.8307692307692308\n"
     ]
    }
   ],
   "source": [
    "# Print F1 scores\n",
    "print(\"f1 score Logistic Regression on training set : \" , f1_score(Y_train, Y_train_pred))\n",
    "print(\"f1 score Logistic Regression on test set : \", f1_score(Y_test, Y_test_pred))     "
   ]
  },
  {
   "cell_type": "markdown",
   "metadata": {},
   "source": [
    "<center> <font color=\"bleu\"> <ins>Observations</font>\n",
    "</center>\n",
    "</br>\n",
    "F1 score is particularly useful in case of imbalanced data, as it appears to be the case in our dataset.\n",
    "The F1 scores obtained are relatively good, knowing that 1 is the best possible score; This indicates that our model is able to correctly predict whether a user will subscribe to the newsletter or not.</br>\n",
    "The baseline model reaches a f1-score of 83%.\n",
    "The model is not overfitting and that it performs well on the new data."
   ]
  },
  {
   "cell_type": "markdown",
   "metadata": {},
   "source": [
    "<li>A.2.4.<ins> Confusion Matrices"
   ]
  },
  {
   "cell_type": "code",
   "execution_count": 19,
   "metadata": {},
   "outputs": [
    {
     "data": {
      "text/plain": [
       "<Figure size 1000x800 with 0 Axes>"
      ]
     },
     "metadata": {},
     "output_type": "display_data"
    },
    {
     "data": {
      "image/png": "[encoded data removed]",
      "text/plain": [
       "<Figure size 640x480 with 2 Axes>"
      ]
     },
     "metadata": {},
     "output_type": "display_data"
    },
    {
     "data": {
      "image/png": "[encoded data removed]",
      "text/plain": [
       "<Figure size 640x480 with 2 Axes>"
      ]
     },
     "metadata": {},
     "output_type": "display_data"
    },
    {
     "name": "stdout",
     "output_type": "stream",
     "text": [
      "Confusion matrix on train set : \n",
      "[[17310    80]\n",
      " [  195   414]]\n",
      "\n",
      "Confusion matrix on test set : \n",
      "[[1924    8]\n",
      " [  14   54]]\n",
      "\n"
     ]
    }
   ],
   "source": [
    "# Visualize confusion matrices\n",
    "\n",
    "plt.figure(figsize=(10, 8))\n",
    "_ , ax = plt.subplots() \n",
    "title = ax.set(title=\"Confusion Matrix on Train set\") \n",
    "ConfusionMatrixDisplay.from_estimator(classifier, X_train, Y_train, ax=ax) \n",
    "plt.show()\n",
    "\n",
    "_ , ax = plt.subplots() \n",
    "title = ax.set(title=\"Confusion Matrix on Test set\") \n",
    "ConfusionMatrixDisplay.from_estimator(classifier, X_test, Y_test, ax=ax) \n",
    "plt.show()\n",
    "\n",
    "print(\"Confusion matrix on train set : \")\n",
    "print(confusion_matrix(Y_train, Y_train_pred))\n",
    "print()\n",
    "print(\"Confusion matrix on test set : \")\n",
    "print(confusion_matrix(Y_test, Y_test_pred))\n",
    "print()"
   ]
  },
  {
   "cell_type": "code",
   "execution_count": 20,
   "metadata": {},
   "outputs": [
    {
     "data": {
      "text/plain": [
       "converted\n",
       "0    275400\n",
       "1      9180\n",
       "Name: count, dtype: int64"
      ]
     },
     "execution_count": 20,
     "metadata": {},
     "output_type": "execute_result"
    }
   ],
   "source": [
    "# We'll not calculate the accuracy cause our dataset is imbalanced (more precisely the target variable),consequently the accuracy could be misleading.\n",
    "df['converted'].value_counts()"
   ]
  },
  {
   "cell_type": "markdown",
   "metadata": {},
   "source": [
    "<u> <center><font color=\"pink\"> B. Second model "
   ]
  },
  {
   "cell_type": "markdown",
   "metadata": {},
   "source": [
    "<U>B.1. Random Forest "
   ]
  },
  {
   "cell_type": "code",
   "execution_count": 21,
   "metadata": {},
   "outputs": [
    {
     "name": "stdout",
     "output_type": "stream",
     "text": [
      "Train model...\n"
     ]
    },
    {
     "name": "stdout",
     "output_type": "stream",
     "text": [
      "...Done.\n"
     ]
    }
   ],
   "source": [
    "# Create a model instance and train it\n",
    "print(\"Train model...\")\n",
    "Random_Forest_model = RandomForestClassifier()\n",
    "Random_Forest_model.fit(X_train, Y_train)\n",
    "print(\"...Done.\")"
   ]
  },
  {
   "cell_type": "markdown",
   "metadata": {},
   "source": [
    "<u>B.2 Performance assessment\n"
   ]
  },
  {
   "cell_type": "markdown",
   "metadata": {},
   "source": [
    "<li>B.2.1.<ins> Predictions"
   ]
  },
  {
   "cell_type": "code",
   "execution_count": 22,
   "metadata": {},
   "outputs": [
    {
     "name": "stdout",
     "output_type": "stream",
     "text": [
      "Predictions on training set: \n",
      " [0 0 0 ... 0 0 0] \n",
      "\n",
      "Predictions on test set: \n",
      " [0 0 0 ... 0 0 0]\n"
     ]
    }
   ],
   "source": [
    "# Predictions on training and test sets\n",
    "Y_train_pred = Random_Forest_model.predict(X_train)\n",
    "Y_test_pred = Random_Forest_model.predict(X_test)\n",
    "print(\"Predictions on training set: \\n\",Y_train_pred, \"\\n\\nPredictions on test set: \\n\", Y_test_pred)"
   ]
  },
  {
   "cell_type": "markdown",
   "metadata": {},
   "source": [
    "<li>B.2.2.<ins> Probabilities"
   ]
  },
  {
   "cell_type": "code",
   "execution_count": 23,
   "metadata": {},
   "outputs": [
    {
     "name": "stdout",
     "output_type": "stream",
     "text": [
      "Train Probabilities:\n",
      " [[1. 0.]\n",
      " [1. 0.]\n",
      " [1. 0.]\n",
      " [1. 0.]\n",
      " [1. 0.]] \n",
      "\n",
      "Test Probabilities:\n",
      " [[1. 0.]\n",
      " [1. 0.]\n",
      " [1. 0.]\n",
      " [1. 0.]\n",
      " [1. 0.]]\n"
     ]
    }
   ],
   "source": [
    "#Train and test sets\n",
    "Y_train_proba = Random_Forest_model.predict_proba(X_train)\n",
    "Y_test_proba = Random_Forest_model.predict_proba(X_test)\n",
    "print(\"Train Probabilities:\\n\", Y_train_proba[:5], \"\\n\\nTest Probabilities:\\n\", Y_test_proba[:5])"
   ]
  },
  {
   "cell_type": "markdown",
   "metadata": {},
   "source": [
    "<li>B.2.3.<ins> F1_Score"
   ]
  },
  {
   "cell_type": "code",
   "execution_count": 24,
   "metadata": {},
   "outputs": [
    {
     "name": "stdout",
     "output_type": "stream",
     "text": [
      "f1 score Random Forest on training set :  0.9064124783362218\n",
      "f1 score Random Forest on test set :  0.7559055118110236\n"
     ]
    }
   ],
   "source": [
    "# Print F1 scores\n",
    "print(\"f1 score Random Forest on training set : \" , f1_score(Y_train, Y_train_pred))\n",
    "print(\"f1 score Random Forest on test set : \", f1_score(Y_test, Y_test_pred))   "
   ]
  },
  {
   "cell_type": "markdown",
   "metadata": {},
   "source": [
    "<center> <font color=\"bleu\"> <ins>Observations</font>\n",
    "</center>\n",
    "</br>\n",
    "The F1 score is significantly higher on the training set than on the testing set. it is overfitting.\n",
    "The random forest model may be too complex or too well suited to the training data, to the detriment of its ability to generalize over unseen data.\n",
    "The F1 score reaches 75%."
   ]
  },
  {
   "cell_type": "markdown",
   "metadata": {},
   "source": [
    "<li>B.2.4.<ins> Confusion Matrices\n"
   ]
  },
  {
   "cell_type": "code",
   "execution_count": 25,
   "metadata": {},
   "outputs": [
    {
     "data": {
      "text/plain": [
       "<Figure size 1000x800 with 0 Axes>"
      ]
     },
     "metadata": {},
     "output_type": "display_data"
    },
    {
     "data": {
      "image/png": "[encoded data removed]",
      "text/plain": [
       "<Figure size 640x480 with 2 Axes>"
      ]
     },
     "metadata": {},
     "output_type": "display_data"
    },
    {
     "data": {
      "image/png": "[encoded data removed]",
      "text/plain": [
       "<Figure size 640x480 with 2 Axes>"
      ]
     },
     "metadata": {},
     "output_type": "display_data"
    },
    {
     "name": "stdout",
     "output_type": "stream",
     "text": [
      "Confusion matrix on train set : \n",
      "[[17368    22]\n",
      " [   86   523]]\n",
      "\n",
      "Confusion matrix on test set : \n",
      "[[1921   11]\n",
      " [  20   48]]\n",
      "\n"
     ]
    }
   ],
   "source": [
    "# Visualize confusion matrices\n",
    "\n",
    "plt.figure(figsize=(10, 8))\n",
    "_ , ax = plt.subplots() \n",
    "title = ax.set(title=\"Confusion Matrix on Train set\") \n",
    "ConfusionMatrixDisplay.from_estimator(Random_Forest_model, X_train, Y_train, ax=ax) \n",
    "plt.show()\n",
    "\n",
    "_ , ax = plt.subplots()\n",
    "title = ax.set(title=\"Confusion Matrix on Test set\") \n",
    "ConfusionMatrixDisplay.from_estimator(Random_Forest_model, X_test, Y_test, ax=ax) \n",
    "plt.show()\n",
    "\n",
    "print(\"Confusion matrix on train set : \")\n",
    "print(confusion_matrix(Y_train, Y_train_pred))\n",
    "print()\n",
    "print(\"Confusion matrix on test set : \")\n",
    "print(confusion_matrix(Y_test, Y_test_pred))\n",
    "print()"
   ]
  },
  {
   "cell_type": "markdown",
   "metadata": {},
   "source": [
    "<u> <center><font color=\"pink\"> C. Third model "
   ]
  },
  {
   "cell_type": "markdown",
   "metadata": {},
   "source": [
    "<U>C.1. SVM: Support Vector Machine"
   ]
  },
  {
   "cell_type": "code",
   "execution_count": 26,
   "metadata": {},
   "outputs": [
    {
     "name": "stdout",
     "output_type": "stream",
     "text": [
      "Train model...\n",
      "...Done.\n"
     ]
    }
   ],
   "source": [
    "# Create a model instance and train it\n",
    "print(\"Train model...\")\n",
    "svc = SVC( probability = True)\n",
    "svc.fit(X_train, Y_train)\n",
    "print(\"...Done.\")"
   ]
  },
  {
   "cell_type": "markdown",
   "metadata": {},
   "source": [
    "<u>C.2 Performance assessment\n"
   ]
  },
  {
   "cell_type": "markdown",
   "metadata": {},
   "source": [
    "<li>C.2.1.<ins> Predictions"
   ]
  },
  {
   "cell_type": "code",
   "execution_count": 27,
   "metadata": {},
   "outputs": [
    {
     "name": "stdout",
     "output_type": "stream",
     "text": [
      "Predictions on training set:\n",
      " [0 0 0 ... 0 0 0] \n",
      "\n",
      "Predictions on test set:\n",
      " [0 0 0 ... 0 0 0]\n"
     ]
    }
   ],
   "source": [
    "# Predictons on training and test set\n",
    "Y_train_pred = svc.predict(X_train)\n",
    "Y_test_pred = svc.predict(X_test)\n",
    "print(\"Predictions on training set:\\n\",  Y_train_pred, \"\\n\\nPredictions on test set:\\n\",  Y_test_pred)"
   ]
  },
  {
   "cell_type": "markdown",
   "metadata": {},
   "source": [
    "<li>C.2.2.<ins> Probabilities"
   ]
  },
  {
   "cell_type": "code",
   "execution_count": 28,
   "metadata": {},
   "outputs": [
    {
     "name": "stdout",
     "output_type": "stream",
     "text": [
      "Train Probabilities:\n",
      " [[0.99106594 0.00893406]\n",
      " [0.98831664 0.01168336]\n",
      " [0.99467791 0.00532209]\n",
      " [0.98453884 0.01546116]\n",
      " [0.99600125 0.00399875]] \n",
      "\n",
      "Test Probabilities:\n",
      " [[0.98765406 0.01234594]\n",
      " [0.99336075 0.00663925]\n",
      " [0.99065488 0.00934512]\n",
      " [0.98806906 0.01193094]\n",
      " [0.98602514 0.01397486]]\n"
     ]
    }
   ],
   "source": [
    "#Train and test sets\n",
    "Y_train_proba = svc.predict_proba(X_train)\n",
    "Y_test_proba = svc.predict_proba(X_test)\n",
    "print(\"Train Probabilities:\\n\", Y_train_proba[:5], \"\\n\\nTest Probabilities:\\n\", Y_test_proba[:5])"
   ]
  },
  {
   "cell_type": "markdown",
   "metadata": {},
   "source": [
    "<li>C.2.3.<ins> F1_Score"
   ]
  },
  {
   "cell_type": "code",
   "execution_count": 29,
   "metadata": {},
   "outputs": [
    {
     "name": "stdout",
     "output_type": "stream",
     "text": [
      "f1 score svc on training set :  0.7382550335570469\n",
      "f1 score svc on test set :  0.773109243697479\n"
     ]
    }
   ],
   "source": [
    "# Print F1 scores\n",
    "print(\"f1 score svc on training set : \" , f1_score(Y_train, Y_train_pred))\n",
    "print(\"f1 score svc on test set : \", f1_score(Y_test, Y_test_pred))     "
   ]
  },
  {
   "cell_type": "markdown",
   "metadata": {},
   "source": [
    "<li>C.2.4.<ins> Confusion Matrices"
   ]
  },
  {
   "cell_type": "code",
   "execution_count": 30,
   "metadata": {},
   "outputs": [
    {
     "data": {
      "text/plain": [
       "<Figure size 1000x800 with 0 Axes>"
      ]
     },
     "metadata": {},
     "output_type": "display_data"
    },
    {
     "data": {
      "image/png": "[encoded data removed]",
      "text/plain": [
       "<Figure size 640x480 with 2 Axes>"
      ]
     },
     "metadata": {},
     "output_type": "display_data"
    },
    {
     "data": {
      "image/png": "[encoded data removed]",
      "text/plain": [
       "<Figure size 640x480 with 2 Axes>"
      ]
     },
     "metadata": {},
     "output_type": "display_data"
    },
    {
     "name": "stdout",
     "output_type": "stream",
     "text": [
      "Confusion matrix on train set : \n",
      "[[17341    49]\n",
      " [  224   385]]\n",
      "\n",
      "Confusion matrix on test set : \n",
      "[[1927    5]\n",
      " [  22   46]]\n",
      "\n"
     ]
    }
   ],
   "source": [
    "# Visualize confusion matrices\n",
    "\n",
    "plt.figure(figsize=(10, 8))\n",
    "_ , ax = plt.subplots() # Get subplot from matplotlib\n",
    "title = ax.set(title=\"Confusion Matrix on Train set\") # Set a title that we will add into ConfusionMatrixDisplay\n",
    "ConfusionMatrixDisplay.from_estimator(svc , X_train, Y_train, ax=ax) # ConfusionMatrixDisplay from sklearn\n",
    "plt.show()\n",
    "\n",
    "_ , ax = plt.subplots() # Get subplot from matplotlib\n",
    "title = ax.set(title=\"Confusion Matrix on Test set\") # Set a title that we will add into ConfusionMatrixDisplay\n",
    "ConfusionMatrixDisplay.from_estimator(svc , X_test, Y_test, ax=ax) # ConfusionMatrixDisplay from sklearn\n",
    "plt.show()\n",
    "\n",
    "print(\"Confusion matrix on train set : \")\n",
    "print(confusion_matrix(Y_train, Y_train_pred))\n",
    "print()\n",
    "print(\"Confusion matrix on test set : \")\n",
    "print(confusion_matrix(Y_test, Y_test_pred))\n",
    "print()"
   ]
  },
  {
   "cell_type": "markdown",
   "metadata": {},
   "source": [
    "<center> <font color=\"bleu\"> <ins>Observations</font>\n",
    "</center>\n",
    "</br>\n",
    "The score is better than the one obtained with the Random Forest model, we reach a f1 score of 77%.\n",
    "</br>\n",
    "</br>\n",
    "</br>"
   ]
  },
  {
   "cell_type": "markdown",
   "metadata": {},
   "source": [
    "# <u>Part 2: Model Improvement\n"
   ]
  },
  {
   "cell_type": "markdown",
   "metadata": {},
   "source": [
    "<li> <u> A.Hyperparameters optimization by Grid search"
   ]
  },
  {
   "cell_type": "markdown",
   "metadata": {},
   "source": [
    "<U>1)Logistic Regression"
   ]
  },
  {
   "cell_type": "code",
   "execution_count": 31,
   "metadata": {},
   "outputs": [
    {
     "name": "stdout",
     "output_type": "stream",
     "text": [
      "Grid search...\n",
      "Fitting 5 folds for each of 5 candidates, totalling 25 fits\n",
      "...Done.\n",
      "Best hyperparameters :  {'C': 100}\n",
      "Best F1-score:  0.7528806592980597\n",
      "F1-score on the test set:  0.8396946564885497\n"
     ]
    }
   ],
   "source": [
    "print(\"Grid search...\")\n",
    "logistic = LogisticRegression()\n",
    "\n",
    "params= {\n",
    "    'C' : [ 0.1, 1, 5,10, 100]\n",
    "}\n",
    "gridsearch = GridSearchCV (logistic, param_grid = params, scoring= \"f1\", cv = 5, verbose=1) # cv : the number of folds to be used for CV\n",
    "gridsearch.fit(X_train, Y_train)\n",
    "print(\"...Done.\")\n",
    "\n",
    "#Let's exctract the best model (best estimator) and the corresponding performance (best_score)\n",
    "best_model_logistic = gridsearch.best_estimator_\n",
    "best_f1_score = gridsearch.best_score_\n",
    "\n",
    "Y_pred = best_model_logistic.predict(X_test)\n",
    "test_f1_score_log = f1_score(Y_test, Y_pred)\n",
    "\n",
    "print(\"Best hyperparameters : \", gridsearch.best_params_)\n",
    "print(\"Best F1-score: \", best_f1_score)\n",
    "print(\"F1-score on the test set: \",test_f1_score_log)"
   ]
  },
  {
   "cell_type": "markdown",
   "metadata": {},
   "source": [
    "<u>2) Random Forest"
   ]
  },
  {
   "cell_type": "code",
   "execution_count": 32,
   "metadata": {},
   "outputs": [
    {
     "name": "stdout",
     "output_type": "stream",
     "text": [
      "Grid search...\n",
      "Fitting 5 folds for each of 81 candidates, totalling 405 fits\n",
      "...Done.\n",
      "Best hyperparameters :  {'max_depth': 5, 'min_samples_leaf': 1, 'min_samples_split': 10, 'n_estimators': 200}\n",
      "Best F1-score:  0.9838879627056899\n",
      "F1-score on the test set:  0.7652173913043478\n"
     ]
    }
   ],
   "source": [
    "# Perform grid search\n",
    "print(\"Grid search...\")\n",
    "Random_Forest_model = RandomForestClassifier()\n",
    "\n",
    "# Grid of values to be tested\n",
    "params = {\n",
    "    'max_depth': [5, 10, 15],\n",
    "    'min_samples_leaf': [1, 2, 4],\n",
    "    'min_samples_split': [2, 5, 10],\n",
    "    'n_estimators': [50, 100, 200]\n",
    "}\n",
    "gridsearch = GridSearchCV(Random_Forest_model, param_grid = params, verbose= 1, cv = 5) # cv : the number of folds to be used for CV\n",
    "gridsearch.fit(X_train, Y_train)\n",
    "print(\"...Done.\")\n",
    "\n",
    "best_model_Random_Forest_model= gridsearch.best_estimator_\n",
    "best_f1_score= gridsearch.best_score_\n",
    "\n",
    "Y_pred = best_model_Random_Forest_model.predict(X_test)\n",
    "test_f1_score_Random_Forest_model = f1_score(Y_test, Y_pred)\n",
    "\n",
    "print(\"Best hyperparameters : \", gridsearch.best_params_)\n",
    "print(\"Best F1-score: \", best_f1_score)\n",
    "print(\"F1-score on the test set: \", test_f1_score_Random_Forest_model)"
   ]
  },
  {
   "cell_type": "markdown",
   "metadata": {},
   "source": [
    "<u>3) SVC"
   ]
  },
  {
   "cell_type": "code",
   "execution_count": 33,
   "metadata": {},
   "outputs": [
    {
     "name": "stdout",
     "output_type": "stream",
     "text": [
      "Grid search...\n",
      "Fitting 5 folds for each of 12 candidates, totalling 60 fits\n",
      "...Done.\n",
      "Best hyperparameters :  {'C': 1, 'gamma': 'scale', 'kernel': 'linear'}\n",
      "Best F1-score:  0.745824867780059\n",
      "F1-score on the test set:  0.8031496062992127\n"
     ]
    }
   ],
   "source": [
    "# Perform grid search\n",
    "print(\"Grid search...\")\n",
    "svc = SVC()\n",
    "\n",
    "# Grid of values to be tested\n",
    "params = {\n",
    "    'C': [0.1, 1, 10],\n",
    "    'gamma': [\"scale\", \"auto\"],\n",
    "    'kernel': ['linear', 'rbf']\n",
    "}\n",
    "gridsearch = GridSearchCV(svc, param_grid = params, cv = 5,scoring=\"f1\", verbose = 1) # cv : the number of folds to be used for CV\n",
    "gridsearch.fit(X_train, Y_train)\n",
    "print(\"...Done.\")\n",
    "\n",
    "best_model_svc= gridsearch.best_estimator_\n",
    "best_f1_score= gridsearch.best_score_\n",
    "\n",
    "Y_pred = best_model_svc.predict(X_test)\n",
    "test_f1_score_svc = f1_score(Y_test, Y_pred)\n",
    "\n",
    "print(\"Best hyperparameters : \", gridsearch.best_params_)\n",
    "print(\"Best F1-score: \", best_f1_score)\n",
    "print(\"F1-score on the test set: \", test_f1_score_svc)"
   ]
  },
  {
   "cell_type": "markdown",
   "metadata": {},
   "source": [
    "<li> <u> B.Improve your model's f1-score on your test set"
   ]
  },
  {
   "cell_type": "markdown",
   "metadata": {},
   "source": [
    "As the Logistic Regression performs the best, we are going to improve its performances.\n",
    "Let's find the combination of hyperparameters that gives the best performance."
   ]
  },
  {
   "cell_type": "markdown",
   "metadata": {},
   "source": [
    "<u> First method : Bagging"
   ]
  },
  {
   "cell_type": "code",
   "execution_count": 34,
   "metadata": {},
   "outputs": [
    {
     "name": "stdout",
     "output_type": "stream",
     "text": [
      "Grid search...\n",
      "{'base_estimator__C': [0.1, 1, 5, 10, 20], 'n_estimators': [5, 10, 20, 30]}\n",
      "Fitting 5 folds for each of 20 candidates, totalling 100 fits\n"
     ]
    },
    {
     "name": "stderr",
     "output_type": "stream",
     "text": [
      "/Users/nadiapreuvot/miniconda3/envs/nadia_machine_learning/lib/python3.10/site-packages/sklearn/model_selection/_validation.py:720: FutureWarning: Parameter 'base_estimator' of BaggingClassifier is deprecated in favor of 'estimator'. See BaggingClassifier's docstring for more details.\n",
      "  estimator = estimator.set_params(**cloned_parameters)\n",
      "/Users/nadiapreuvot/miniconda3/envs/nadia_machine_learning/lib/python3.10/site-packages/sklearn/model_selection/_validation.py:720: FutureWarning: Parameter 'base_estimator' of BaggingClassifier is deprecated in favor of 'estimator'. See BaggingClassifier's docstring for more details.\n",
      "  estimator = estimator.set_params(**cloned_parameters)\n",
      "/Users/nadiapreuvot/miniconda3/envs/nadia_machine_learning/lib/python3.10/site-packages/sklearn/model_selection/_validation.py:720: FutureWarning: Parameter 'base_estimator' of BaggingClassifier is deprecated in favor of 'estimator'. See BaggingClassifier's docstring for more details.\n",
      "  estimator = estimator.set_params(**cloned_parameters)\n",
      "/Users/nadiapreuvot/miniconda3/envs/nadia_machine_learning/lib/python3.10/site-packages/sklearn/model_selection/_validation.py:720: FutureWarning: Parameter 'base_estimator' of BaggingClassifier is deprecated in favor of 'estimator'. See BaggingClassifier's docstring for more details.\n",
      "  estimator = estimator.set_params(**cloned_parameters)\n",
      "/Users/nadiapreuvot/miniconda3/envs/nadia_machine_learning/lib/python3.10/site-packages/sklearn/model_selection/_validation.py:720: FutureWarning: Parameter 'base_estimator' of BaggingClassifier is deprecated in favor of 'estimator'. See BaggingClassifier's docstring for more details.\n",
      "  estimator = estimator.set_params(**cloned_parameters)\n",
      "/Users/nadiapreuvot/miniconda3/envs/nadia_machine_learning/lib/python3.10/site-packages/sklearn/model_selection/_validation.py:720: FutureWarning: Parameter 'base_estimator' of BaggingClassifier is deprecated in favor of 'estimator'. See BaggingClassifier's docstring for more details.\n",
      "  estimator = estimator.set_params(**cloned_parameters)\n",
      "/Users/nadiapreuvot/miniconda3/envs/nadia_machine_learning/lib/python3.10/site-packages/sklearn/model_selection/_validation.py:720: FutureWarning: Parameter 'base_estimator' of BaggingClassifier is deprecated in favor of 'estimator'. See BaggingClassifier's docstring for more details.\n",
      "  estimator = estimator.set_params(**cloned_parameters)\n",
      "/Users/nadiapreuvot/miniconda3/envs/nadia_machine_learning/lib/python3.10/site-packages/sklearn/model_selection/_validation.py:720: FutureWarning: Parameter 'base_estimator' of BaggingClassifier is deprecated in favor of 'estimator'. See BaggingClassifier's docstring for more details.\n",
      "  estimator = estimator.set_params(**cloned_parameters)\n",
      "/Users/nadiapreuvot/miniconda3/envs/nadia_machine_learning/lib/python3.10/site-packages/sklearn/model_selection/_validation.py:720: FutureWarning: Parameter 'base_estimator' of BaggingClassifier is deprecated in favor of 'estimator'. See BaggingClassifier's docstring for more details.\n",
      "  estimator = estimator.set_params(**cloned_parameters)\n",
      "/Users/nadiapreuvot/miniconda3/envs/nadia_machine_learning/lib/python3.10/site-packages/sklearn/model_selection/_validation.py:720: FutureWarning: Parameter 'base_estimator' of BaggingClassifier is deprecated in favor of 'estimator'. See BaggingClassifier's docstring for more details.\n",
      "  estimator = estimator.set_params(**cloned_parameters)\n",
      "/Users/nadiapreuvot/miniconda3/envs/nadia_machine_learning/lib/python3.10/site-packages/sklearn/model_selection/_validation.py:720: FutureWarning: Parameter 'base_estimator' of BaggingClassifier is deprecated in favor of 'estimator'. See BaggingClassifier's docstring for more details.\n",
      "  estimator = estimator.set_params(**cloned_parameters)\n",
      "/Users/nadiapreuvot/miniconda3/envs/nadia_machine_learning/lib/python3.10/site-packages/sklearn/model_selection/_validation.py:720: FutureWarning: Parameter 'base_estimator' of BaggingClassifier is deprecated in favor of 'estimator'. See BaggingClassifier's docstring for more details.\n",
      "  estimator = estimator.set_params(**cloned_parameters)\n",
      "/Users/nadiapreuvot/miniconda3/envs/nadia_machine_learning/lib/python3.10/site-packages/sklearn/model_selection/_validation.py:720: FutureWarning: Parameter 'base_estimator' of BaggingClassifier is deprecated in favor of 'estimator'. See BaggingClassifier's docstring for more details.\n",
      "  estimator = estimator.set_params(**cloned_parameters)\n",
      "/Users/nadiapreuvot/miniconda3/envs/nadia_machine_learning/lib/python3.10/site-packages/sklearn/model_selection/_validation.py:720: FutureWarning: Parameter 'base_estimator' of BaggingClassifier is deprecated in favor of 'estimator'. See BaggingClassifier's docstring for more details.\n",
      "  estimator = estimator.set_params(**cloned_parameters)\n",
      "/Users/nadiapreuvot/miniconda3/envs/nadia_machine_learning/lib/python3.10/site-packages/sklearn/model_selection/_validation.py:720: FutureWarning: Parameter 'base_estimator' of BaggingClassifier is deprecated in favor of 'estimator'. See BaggingClassifier's docstring for more details.\n",
      "  estimator = estimator.set_params(**cloned_parameters)\n",
      "/Users/nadiapreuvot/miniconda3/envs/nadia_machine_learning/lib/python3.10/site-packages/sklearn/model_selection/_validation.py:720: FutureWarning: Parameter 'base_estimator' of BaggingClassifier is deprecated in favor of 'estimator'. See BaggingClassifier's docstring for more details.\n",
      "  estimator = estimator.set_params(**cloned_parameters)\n",
      "/Users/nadiapreuvot/miniconda3/envs/nadia_machine_learning/lib/python3.10/site-packages/sklearn/model_selection/_validation.py:720: FutureWarning: Parameter 'base_estimator' of BaggingClassifier is deprecated in favor of 'estimator'. See BaggingClassifier's docstring for more details.\n",
      "  estimator = estimator.set_params(**cloned_parameters)\n",
      "/Users/nadiapreuvot/miniconda3/envs/nadia_machine_learning/lib/python3.10/site-packages/sklearn/model_selection/_validation.py:720: FutureWarning: Parameter 'base_estimator' of BaggingClassifier is deprecated in favor of 'estimator'. See BaggingClassifier's docstring for more details.\n",
      "  estimator = estimator.set_params(**cloned_parameters)\n",
      "/Users/nadiapreuvot/miniconda3/envs/nadia_machine_learning/lib/python3.10/site-packages/sklearn/model_selection/_validation.py:720: FutureWarning: Parameter 'base_estimator' of BaggingClassifier is deprecated in favor of 'estimator'. See BaggingClassifier's docstring for more details.\n",
      "  estimator = estimator.set_params(**cloned_parameters)\n",
      "/Users/nadiapreuvot/miniconda3/envs/nadia_machine_learning/lib/python3.10/site-packages/sklearn/model_selection/_validation.py:720: FutureWarning: Parameter 'base_estimator' of BaggingClassifier is deprecated in favor of 'estimator'. See BaggingClassifier's docstring for more details.\n",
      "  estimator = estimator.set_params(**cloned_parameters)\n",
      "/Users/nadiapreuvot/miniconda3/envs/nadia_machine_learning/lib/python3.10/site-packages/sklearn/model_selection/_validation.py:720: FutureWarning: Parameter 'base_estimator' of BaggingClassifier is deprecated in favor of 'estimator'. See BaggingClassifier's docstring for more details.\n",
      "  estimator = estimator.set_params(**cloned_parameters)\n",
      "/Users/nadiapreuvot/miniconda3/envs/nadia_machine_learning/lib/python3.10/site-packages/sklearn/model_selection/_validation.py:720: FutureWarning: Parameter 'base_estimator' of BaggingClassifier is deprecated in favor of 'estimator'. See BaggingClassifier's docstring for more details.\n",
      "  estimator = estimator.set_params(**cloned_parameters)\n",
      "/Users/nadiapreuvot/miniconda3/envs/nadia_machine_learning/lib/python3.10/site-packages/sklearn/model_selection/_validation.py:720: FutureWarning: Parameter 'base_estimator' of BaggingClassifier is deprecated in favor of 'estimator'. See BaggingClassifier's docstring for more details.\n",
      "  estimator = estimator.set_params(**cloned_parameters)\n",
      "/Users/nadiapreuvot/miniconda3/envs/nadia_machine_learning/lib/python3.10/site-packages/sklearn/model_selection/_validation.py:720: FutureWarning: Parameter 'base_estimator' of BaggingClassifier is deprecated in favor of 'estimator'. See BaggingClassifier's docstring for more details.\n",
      "  estimator = estimator.set_params(**cloned_parameters)\n",
      "/Users/nadiapreuvot/miniconda3/envs/nadia_machine_learning/lib/python3.10/site-packages/sklearn/model_selection/_validation.py:720: FutureWarning: Parameter 'base_estimator' of BaggingClassifier is deprecated in favor of 'estimator'. See BaggingClassifier's docstring for more details.\n",
      "  estimator = estimator.set_params(**cloned_parameters)\n",
      "/Users/nadiapreuvot/miniconda3/envs/nadia_machine_learning/lib/python3.10/site-packages/sklearn/model_selection/_validation.py:720: FutureWarning: Parameter 'base_estimator' of BaggingClassifier is deprecated in favor of 'estimator'. See BaggingClassifier's docstring for more details.\n",
      "  estimator = estimator.set_params(**cloned_parameters)\n",
      "/Users/nadiapreuvot/miniconda3/envs/nadia_machine_learning/lib/python3.10/site-packages/sklearn/model_selection/_validation.py:720: FutureWarning: Parameter 'base_estimator' of BaggingClassifier is deprecated in favor of 'estimator'. See BaggingClassifier's docstring for more details.\n",
      "  estimator = estimator.set_params(**cloned_parameters)\n",
      "/Users/nadiapreuvot/miniconda3/envs/nadia_machine_learning/lib/python3.10/site-packages/sklearn/model_selection/_validation.py:720: FutureWarning: Parameter 'base_estimator' of BaggingClassifier is deprecated in favor of 'estimator'. See BaggingClassifier's docstring for more details.\n",
      "  estimator = estimator.set_params(**cloned_parameters)\n",
      "/Users/nadiapreuvot/miniconda3/envs/nadia_machine_learning/lib/python3.10/site-packages/sklearn/model_selection/_validation.py:720: FutureWarning: Parameter 'base_estimator' of BaggingClassifier is deprecated in favor of 'estimator'. See BaggingClassifier's docstring for more details.\n",
      "  estimator = estimator.set_params(**cloned_parameters)\n",
      "/Users/nadiapreuvot/miniconda3/envs/nadia_machine_learning/lib/python3.10/site-packages/sklearn/model_selection/_validation.py:720: FutureWarning: Parameter 'base_estimator' of BaggingClassifier is deprecated in favor of 'estimator'. See BaggingClassifier's docstring for more details.\n",
      "  estimator = estimator.set_params(**cloned_parameters)\n",
      "/Users/nadiapreuvot/miniconda3/envs/nadia_machine_learning/lib/python3.10/site-packages/sklearn/model_selection/_validation.py:720: FutureWarning: Parameter 'base_estimator' of BaggingClassifier is deprecated in favor of 'estimator'. See BaggingClassifier's docstring for more details.\n",
      "  estimator = estimator.set_params(**cloned_parameters)\n",
      "/Users/nadiapreuvot/miniconda3/envs/nadia_machine_learning/lib/python3.10/site-packages/sklearn/model_selection/_validation.py:720: FutureWarning: Parameter 'base_estimator' of BaggingClassifier is deprecated in favor of 'estimator'. See BaggingClassifier's docstring for more details.\n",
      "  estimator = estimator.set_params(**cloned_parameters)\n",
      "/Users/nadiapreuvot/miniconda3/envs/nadia_machine_learning/lib/python3.10/site-packages/sklearn/model_selection/_validation.py:720: FutureWarning: Parameter 'base_estimator' of BaggingClassifier is deprecated in favor of 'estimator'. See BaggingClassifier's docstring for more details.\n",
      "  estimator = estimator.set_params(**cloned_parameters)\n",
      "/Users/nadiapreuvot/miniconda3/envs/nadia_machine_learning/lib/python3.10/site-packages/sklearn/model_selection/_validation.py:720: FutureWarning: Parameter 'base_estimator' of BaggingClassifier is deprecated in favor of 'estimator'. See BaggingClassifier's docstring for more details.\n",
      "  estimator = estimator.set_params(**cloned_parameters)\n",
      "/Users/nadiapreuvot/miniconda3/envs/nadia_machine_learning/lib/python3.10/site-packages/sklearn/model_selection/_validation.py:720: FutureWarning: Parameter 'base_estimator' of BaggingClassifier is deprecated in favor of 'estimator'. See BaggingClassifier's docstring for more details.\n",
      "  estimator = estimator.set_params(**cloned_parameters)\n",
      "/Users/nadiapreuvot/miniconda3/envs/nadia_machine_learning/lib/python3.10/site-packages/sklearn/model_selection/_validation.py:720: FutureWarning: Parameter 'base_estimator' of BaggingClassifier is deprecated in favor of 'estimator'. See BaggingClassifier's docstring for more details.\n",
      "  estimator = estimator.set_params(**cloned_parameters)\n",
      "/Users/nadiapreuvot/miniconda3/envs/nadia_machine_learning/lib/python3.10/site-packages/sklearn/model_selection/_validation.py:720: FutureWarning: Parameter 'base_estimator' of BaggingClassifier is deprecated in favor of 'estimator'. See BaggingClassifier's docstring for more details.\n",
      "  estimator = estimator.set_params(**cloned_parameters)\n",
      "/Users/nadiapreuvot/miniconda3/envs/nadia_machine_learning/lib/python3.10/site-packages/sklearn/model_selection/_validation.py:720: FutureWarning: Parameter 'base_estimator' of BaggingClassifier is deprecated in favor of 'estimator'. See BaggingClassifier's docstring for more details.\n",
      "  estimator = estimator.set_params(**cloned_parameters)\n",
      "/Users/nadiapreuvot/miniconda3/envs/nadia_machine_learning/lib/python3.10/site-packages/sklearn/model_selection/_validation.py:720: FutureWarning: Parameter 'base_estimator' of BaggingClassifier is deprecated in favor of 'estimator'. See BaggingClassifier's docstring for more details.\n",
      "  estimator = estimator.set_params(**cloned_parameters)\n",
      "/Users/nadiapreuvot/miniconda3/envs/nadia_machine_learning/lib/python3.10/site-packages/sklearn/model_selection/_validation.py:720: FutureWarning: Parameter 'base_estimator' of BaggingClassifier is deprecated in favor of 'estimator'. See BaggingClassifier's docstring for more details.\n",
      "  estimator = estimator.set_params(**cloned_parameters)\n",
      "/Users/nadiapreuvot/miniconda3/envs/nadia_machine_learning/lib/python3.10/site-packages/sklearn/model_selection/_validation.py:720: FutureWarning: Parameter 'base_estimator' of BaggingClassifier is deprecated in favor of 'estimator'. See BaggingClassifier's docstring for more details.\n",
      "  estimator = estimator.set_params(**cloned_parameters)\n",
      "/Users/nadiapreuvot/miniconda3/envs/nadia_machine_learning/lib/python3.10/site-packages/sklearn/model_selection/_validation.py:720: FutureWarning: Parameter 'base_estimator' of BaggingClassifier is deprecated in favor of 'estimator'. See BaggingClassifier's docstring for more details.\n",
      "  estimator = estimator.set_params(**cloned_parameters)\n",
      "/Users/nadiapreuvot/miniconda3/envs/nadia_machine_learning/lib/python3.10/site-packages/sklearn/model_selection/_validation.py:720: FutureWarning: Parameter 'base_estimator' of BaggingClassifier is deprecated in favor of 'estimator'. See BaggingClassifier's docstring for more details.\n",
      "  estimator = estimator.set_params(**cloned_parameters)\n",
      "/Users/nadiapreuvot/miniconda3/envs/nadia_machine_learning/lib/python3.10/site-packages/sklearn/model_selection/_validation.py:720: FutureWarning: Parameter 'base_estimator' of BaggingClassifier is deprecated in favor of 'estimator'. See BaggingClassifier's docstring for more details.\n",
      "  estimator = estimator.set_params(**cloned_parameters)\n",
      "/Users/nadiapreuvot/miniconda3/envs/nadia_machine_learning/lib/python3.10/site-packages/sklearn/model_selection/_validation.py:720: FutureWarning: Parameter 'base_estimator' of BaggingClassifier is deprecated in favor of 'estimator'. See BaggingClassifier's docstring for more details.\n",
      "  estimator = estimator.set_params(**cloned_parameters)\n",
      "/Users/nadiapreuvot/miniconda3/envs/nadia_machine_learning/lib/python3.10/site-packages/sklearn/model_selection/_validation.py:720: FutureWarning: Parameter 'base_estimator' of BaggingClassifier is deprecated in favor of 'estimator'. See BaggingClassifier's docstring for more details.\n",
      "  estimator = estimator.set_params(**cloned_parameters)\n",
      "/Users/nadiapreuvot/miniconda3/envs/nadia_machine_learning/lib/python3.10/site-packages/sklearn/model_selection/_validation.py:720: FutureWarning: Parameter 'base_estimator' of BaggingClassifier is deprecated in favor of 'estimator'. See BaggingClassifier's docstring for more details.\n",
      "  estimator = estimator.set_params(**cloned_parameters)\n",
      "/Users/nadiapreuvot/miniconda3/envs/nadia_machine_learning/lib/python3.10/site-packages/sklearn/model_selection/_validation.py:720: FutureWarning: Parameter 'base_estimator' of BaggingClassifier is deprecated in favor of 'estimator'. See BaggingClassifier's docstring for more details.\n",
      "  estimator = estimator.set_params(**cloned_parameters)\n",
      "/Users/nadiapreuvot/miniconda3/envs/nadia_machine_learning/lib/python3.10/site-packages/sklearn/model_selection/_validation.py:720: FutureWarning: Parameter 'base_estimator' of BaggingClassifier is deprecated in favor of 'estimator'. See BaggingClassifier's docstring for more details.\n",
      "  estimator = estimator.set_params(**cloned_parameters)\n",
      "/Users/nadiapreuvot/miniconda3/envs/nadia_machine_learning/lib/python3.10/site-packages/sklearn/model_selection/_validation.py:720: FutureWarning: Parameter 'base_estimator' of BaggingClassifier is deprecated in favor of 'estimator'. See BaggingClassifier's docstring for more details.\n",
      "  estimator = estimator.set_params(**cloned_parameters)\n",
      "/Users/nadiapreuvot/miniconda3/envs/nadia_machine_learning/lib/python3.10/site-packages/sklearn/model_selection/_validation.py:720: FutureWarning: Parameter 'base_estimator' of BaggingClassifier is deprecated in favor of 'estimator'. See BaggingClassifier's docstring for more details.\n",
      "  estimator = estimator.set_params(**cloned_parameters)\n",
      "/Users/nadiapreuvot/miniconda3/envs/nadia_machine_learning/lib/python3.10/site-packages/sklearn/model_selection/_validation.py:720: FutureWarning: Parameter 'base_estimator' of BaggingClassifier is deprecated in favor of 'estimator'. See BaggingClassifier's docstring for more details.\n",
      "  estimator = estimator.set_params(**cloned_parameters)\n",
      "/Users/nadiapreuvot/miniconda3/envs/nadia_machine_learning/lib/python3.10/site-packages/sklearn/model_selection/_validation.py:720: FutureWarning: Parameter 'base_estimator' of BaggingClassifier is deprecated in favor of 'estimator'. See BaggingClassifier's docstring for more details.\n",
      "  estimator = estimator.set_params(**cloned_parameters)\n",
      "/Users/nadiapreuvot/miniconda3/envs/nadia_machine_learning/lib/python3.10/site-packages/sklearn/model_selection/_validation.py:720: FutureWarning: Parameter 'base_estimator' of BaggingClassifier is deprecated in favor of 'estimator'. See BaggingClassifier's docstring for more details.\n",
      "  estimator = estimator.set_params(**cloned_parameters)\n",
      "/Users/nadiapreuvot/miniconda3/envs/nadia_machine_learning/lib/python3.10/site-packages/sklearn/model_selection/_validation.py:720: FutureWarning: Parameter 'base_estimator' of BaggingClassifier is deprecated in favor of 'estimator'. See BaggingClassifier's docstring for more details.\n",
      "  estimator = estimator.set_params(**cloned_parameters)\n",
      "/Users/nadiapreuvot/miniconda3/envs/nadia_machine_learning/lib/python3.10/site-packages/sklearn/model_selection/_validation.py:720: FutureWarning: Parameter 'base_estimator' of BaggingClassifier is deprecated in favor of 'estimator'. See BaggingClassifier's docstring for more details.\n",
      "  estimator = estimator.set_params(**cloned_parameters)\n",
      "/Users/nadiapreuvot/miniconda3/envs/nadia_machine_learning/lib/python3.10/site-packages/sklearn/model_selection/_validation.py:720: FutureWarning: Parameter 'base_estimator' of BaggingClassifier is deprecated in favor of 'estimator'. See BaggingClassifier's docstring for more details.\n",
      "  estimator = estimator.set_params(**cloned_parameters)\n",
      "/Users/nadiapreuvot/miniconda3/envs/nadia_machine_learning/lib/python3.10/site-packages/sklearn/model_selection/_validation.py:720: FutureWarning: Parameter 'base_estimator' of BaggingClassifier is deprecated in favor of 'estimator'. See BaggingClassifier's docstring for more details.\n",
      "  estimator = estimator.set_params(**cloned_parameters)\n",
      "/Users/nadiapreuvot/miniconda3/envs/nadia_machine_learning/lib/python3.10/site-packages/sklearn/model_selection/_validation.py:720: FutureWarning: Parameter 'base_estimator' of BaggingClassifier is deprecated in favor of 'estimator'. See BaggingClassifier's docstring for more details.\n",
      "  estimator = estimator.set_params(**cloned_parameters)\n",
      "/Users/nadiapreuvot/miniconda3/envs/nadia_machine_learning/lib/python3.10/site-packages/sklearn/model_selection/_validation.py:720: FutureWarning: Parameter 'base_estimator' of BaggingClassifier is deprecated in favor of 'estimator'. See BaggingClassifier's docstring for more details.\n",
      "  estimator = estimator.set_params(**cloned_parameters)\n",
      "/Users/nadiapreuvot/miniconda3/envs/nadia_machine_learning/lib/python3.10/site-packages/sklearn/model_selection/_validation.py:720: FutureWarning: Parameter 'base_estimator' of BaggingClassifier is deprecated in favor of 'estimator'. See BaggingClassifier's docstring for more details.\n",
      "  estimator = estimator.set_params(**cloned_parameters)\n",
      "/Users/nadiapreuvot/miniconda3/envs/nadia_machine_learning/lib/python3.10/site-packages/sklearn/model_selection/_validation.py:720: FutureWarning: Parameter 'base_estimator' of BaggingClassifier is deprecated in favor of 'estimator'. See BaggingClassifier's docstring for more details.\n",
      "  estimator = estimator.set_params(**cloned_parameters)\n",
      "/Users/nadiapreuvot/miniconda3/envs/nadia_machine_learning/lib/python3.10/site-packages/sklearn/model_selection/_validation.py:720: FutureWarning: Parameter 'base_estimator' of BaggingClassifier is deprecated in favor of 'estimator'. See BaggingClassifier's docstring for more details.\n",
      "  estimator = estimator.set_params(**cloned_parameters)\n",
      "/Users/nadiapreuvot/miniconda3/envs/nadia_machine_learning/lib/python3.10/site-packages/sklearn/model_selection/_validation.py:720: FutureWarning: Parameter 'base_estimator' of BaggingClassifier is deprecated in favor of 'estimator'. See BaggingClassifier's docstring for more details.\n",
      "  estimator = estimator.set_params(**cloned_parameters)\n",
      "/Users/nadiapreuvot/miniconda3/envs/nadia_machine_learning/lib/python3.10/site-packages/sklearn/model_selection/_validation.py:720: FutureWarning: Parameter 'base_estimator' of BaggingClassifier is deprecated in favor of 'estimator'. See BaggingClassifier's docstring for more details.\n",
      "  estimator = estimator.set_params(**cloned_parameters)\n",
      "/Users/nadiapreuvot/miniconda3/envs/nadia_machine_learning/lib/python3.10/site-packages/sklearn/model_selection/_validation.py:720: FutureWarning: Parameter 'base_estimator' of BaggingClassifier is deprecated in favor of 'estimator'. See BaggingClassifier's docstring for more details.\n",
      "  estimator = estimator.set_params(**cloned_parameters)\n",
      "/Users/nadiapreuvot/miniconda3/envs/nadia_machine_learning/lib/python3.10/site-packages/sklearn/model_selection/_validation.py:720: FutureWarning: Parameter 'base_estimator' of BaggingClassifier is deprecated in favor of 'estimator'. See BaggingClassifier's docstring for more details.\n",
      "  estimator = estimator.set_params(**cloned_parameters)\n",
      "/Users/nadiapreuvot/miniconda3/envs/nadia_machine_learning/lib/python3.10/site-packages/sklearn/model_selection/_validation.py:720: FutureWarning: Parameter 'base_estimator' of BaggingClassifier is deprecated in favor of 'estimator'. See BaggingClassifier's docstring for more details.\n",
      "  estimator = estimator.set_params(**cloned_parameters)\n",
      "/Users/nadiapreuvot/miniconda3/envs/nadia_machine_learning/lib/python3.10/site-packages/sklearn/model_selection/_validation.py:720: FutureWarning: Parameter 'base_estimator' of BaggingClassifier is deprecated in favor of 'estimator'. See BaggingClassifier's docstring for more details.\n",
      "  estimator = estimator.set_params(**cloned_parameters)\n",
      "/Users/nadiapreuvot/miniconda3/envs/nadia_machine_learning/lib/python3.10/site-packages/sklearn/model_selection/_validation.py:720: FutureWarning: Parameter 'base_estimator' of BaggingClassifier is deprecated in favor of 'estimator'. See BaggingClassifier's docstring for more details.\n",
      "  estimator = estimator.set_params(**cloned_parameters)\n",
      "/Users/nadiapreuvot/miniconda3/envs/nadia_machine_learning/lib/python3.10/site-packages/sklearn/model_selection/_validation.py:720: FutureWarning: Parameter 'base_estimator' of BaggingClassifier is deprecated in favor of 'estimator'. See BaggingClassifier's docstring for more details.\n",
      "  estimator = estimator.set_params(**cloned_parameters)\n",
      "/Users/nadiapreuvot/miniconda3/envs/nadia_machine_learning/lib/python3.10/site-packages/sklearn/model_selection/_validation.py:720: FutureWarning: Parameter 'base_estimator' of BaggingClassifier is deprecated in favor of 'estimator'. See BaggingClassifier's docstring for more details.\n",
      "  estimator = estimator.set_params(**cloned_parameters)\n",
      "/Users/nadiapreuvot/miniconda3/envs/nadia_machine_learning/lib/python3.10/site-packages/sklearn/model_selection/_validation.py:720: FutureWarning: Parameter 'base_estimator' of BaggingClassifier is deprecated in favor of 'estimator'. See BaggingClassifier's docstring for more details.\n",
      "  estimator = estimator.set_params(**cloned_parameters)\n",
      "/Users/nadiapreuvot/miniconda3/envs/nadia_machine_learning/lib/python3.10/site-packages/sklearn/model_selection/_validation.py:720: FutureWarning: Parameter 'base_estimator' of BaggingClassifier is deprecated in favor of 'estimator'. See BaggingClassifier's docstring for more details.\n",
      "  estimator = estimator.set_params(**cloned_parameters)\n",
      "/Users/nadiapreuvot/miniconda3/envs/nadia_machine_learning/lib/python3.10/site-packages/sklearn/model_selection/_validation.py:720: FutureWarning: Parameter 'base_estimator' of BaggingClassifier is deprecated in favor of 'estimator'. See BaggingClassifier's docstring for more details.\n",
      "  estimator = estimator.set_params(**cloned_parameters)\n",
      "/Users/nadiapreuvot/miniconda3/envs/nadia_machine_learning/lib/python3.10/site-packages/sklearn/model_selection/_validation.py:720: FutureWarning: Parameter 'base_estimator' of BaggingClassifier is deprecated in favor of 'estimator'. See BaggingClassifier's docstring for more details.\n",
      "  estimator = estimator.set_params(**cloned_parameters)\n",
      "/Users/nadiapreuvot/miniconda3/envs/nadia_machine_learning/lib/python3.10/site-packages/sklearn/model_selection/_validation.py:720: FutureWarning: Parameter 'base_estimator' of BaggingClassifier is deprecated in favor of 'estimator'. See BaggingClassifier's docstring for more details.\n",
      "  estimator = estimator.set_params(**cloned_parameters)\n",
      "/Users/nadiapreuvot/miniconda3/envs/nadia_machine_learning/lib/python3.10/site-packages/sklearn/model_selection/_validation.py:720: FutureWarning: Parameter 'base_estimator' of BaggingClassifier is deprecated in favor of 'estimator'. See BaggingClassifier's docstring for more details.\n",
      "  estimator = estimator.set_params(**cloned_parameters)\n",
      "/Users/nadiapreuvot/miniconda3/envs/nadia_machine_learning/lib/python3.10/site-packages/sklearn/model_selection/_validation.py:720: FutureWarning: Parameter 'base_estimator' of BaggingClassifier is deprecated in favor of 'estimator'. See BaggingClassifier's docstring for more details.\n",
      "  estimator = estimator.set_params(**cloned_parameters)\n",
      "/Users/nadiapreuvot/miniconda3/envs/nadia_machine_learning/lib/python3.10/site-packages/sklearn/model_selection/_validation.py:720: FutureWarning: Parameter 'base_estimator' of BaggingClassifier is deprecated in favor of 'estimator'. See BaggingClassifier's docstring for more details.\n",
      "  estimator = estimator.set_params(**cloned_parameters)\n",
      "/Users/nadiapreuvot/miniconda3/envs/nadia_machine_learning/lib/python3.10/site-packages/sklearn/model_selection/_validation.py:720: FutureWarning: Parameter 'base_estimator' of BaggingClassifier is deprecated in favor of 'estimator'. See BaggingClassifier's docstring for more details.\n",
      "  estimator = estimator.set_params(**cloned_parameters)\n",
      "/Users/nadiapreuvot/miniconda3/envs/nadia_machine_learning/lib/python3.10/site-packages/sklearn/model_selection/_validation.py:720: FutureWarning: Parameter 'base_estimator' of BaggingClassifier is deprecated in favor of 'estimator'. See BaggingClassifier's docstring for more details.\n",
      "  estimator = estimator.set_params(**cloned_parameters)\n",
      "/Users/nadiapreuvot/miniconda3/envs/nadia_machine_learning/lib/python3.10/site-packages/sklearn/model_selection/_validation.py:720: FutureWarning: Parameter 'base_estimator' of BaggingClassifier is deprecated in favor of 'estimator'. See BaggingClassifier's docstring for more details.\n",
      "  estimator = estimator.set_params(**cloned_parameters)\n",
      "/Users/nadiapreuvot/miniconda3/envs/nadia_machine_learning/lib/python3.10/site-packages/sklearn/model_selection/_validation.py:720: FutureWarning: Parameter 'base_estimator' of BaggingClassifier is deprecated in favor of 'estimator'. See BaggingClassifier's docstring for more details.\n",
      "  estimator = estimator.set_params(**cloned_parameters)\n",
      "/Users/nadiapreuvot/miniconda3/envs/nadia_machine_learning/lib/python3.10/site-packages/sklearn/model_selection/_validation.py:720: FutureWarning: Parameter 'base_estimator' of BaggingClassifier is deprecated in favor of 'estimator'. See BaggingClassifier's docstring for more details.\n",
      "  estimator = estimator.set_params(**cloned_parameters)\n",
      "/Users/nadiapreuvot/miniconda3/envs/nadia_machine_learning/lib/python3.10/site-packages/sklearn/model_selection/_validation.py:720: FutureWarning: Parameter 'base_estimator' of BaggingClassifier is deprecated in favor of 'estimator'. See BaggingClassifier's docstring for more details.\n",
      "  estimator = estimator.set_params(**cloned_parameters)\n",
      "/Users/nadiapreuvot/miniconda3/envs/nadia_machine_learning/lib/python3.10/site-packages/sklearn/model_selection/_validation.py:720: FutureWarning: Parameter 'base_estimator' of BaggingClassifier is deprecated in favor of 'estimator'. See BaggingClassifier's docstring for more details.\n",
      "  estimator = estimator.set_params(**cloned_parameters)\n",
      "/Users/nadiapreuvot/miniconda3/envs/nadia_machine_learning/lib/python3.10/site-packages/sklearn/model_selection/_validation.py:720: FutureWarning: Parameter 'base_estimator' of BaggingClassifier is deprecated in favor of 'estimator'. See BaggingClassifier's docstring for more details.\n",
      "  estimator = estimator.set_params(**cloned_parameters)\n",
      "/Users/nadiapreuvot/miniconda3/envs/nadia_machine_learning/lib/python3.10/site-packages/sklearn/model_selection/_validation.py:720: FutureWarning: Parameter 'base_estimator' of BaggingClassifier is deprecated in favor of 'estimator'. See BaggingClassifier's docstring for more details.\n",
      "  estimator = estimator.set_params(**cloned_parameters)\n",
      "/Users/nadiapreuvot/miniconda3/envs/nadia_machine_learning/lib/python3.10/site-packages/sklearn/model_selection/_validation.py:720: FutureWarning: Parameter 'base_estimator' of BaggingClassifier is deprecated in favor of 'estimator'. See BaggingClassifier's docstring for more details.\n",
      "  estimator = estimator.set_params(**cloned_parameters)\n",
      "/Users/nadiapreuvot/miniconda3/envs/nadia_machine_learning/lib/python3.10/site-packages/sklearn/model_selection/_validation.py:720: FutureWarning: Parameter 'base_estimator' of BaggingClassifier is deprecated in favor of 'estimator'. See BaggingClassifier's docstring for more details.\n",
      "  estimator = estimator.set_params(**cloned_parameters)\n",
      "/Users/nadiapreuvot/miniconda3/envs/nadia_machine_learning/lib/python3.10/site-packages/sklearn/model_selection/_validation.py:720: FutureWarning: Parameter 'base_estimator' of BaggingClassifier is deprecated in favor of 'estimator'. See BaggingClassifier's docstring for more details.\n",
      "  estimator = estimator.set_params(**cloned_parameters)\n",
      "/Users/nadiapreuvot/miniconda3/envs/nadia_machine_learning/lib/python3.10/site-packages/sklearn/model_selection/_validation.py:720: FutureWarning: Parameter 'base_estimator' of BaggingClassifier is deprecated in favor of 'estimator'. See BaggingClassifier's docstring for more details.\n",
      "  estimator = estimator.set_params(**cloned_parameters)\n",
      "/Users/nadiapreuvot/miniconda3/envs/nadia_machine_learning/lib/python3.10/site-packages/sklearn/model_selection/_validation.py:720: FutureWarning: Parameter 'base_estimator' of BaggingClassifier is deprecated in favor of 'estimator'. See BaggingClassifier's docstring for more details.\n",
      "  estimator = estimator.set_params(**cloned_parameters)\n",
      "/Users/nadiapreuvot/miniconda3/envs/nadia_machine_learning/lib/python3.10/site-packages/sklearn/model_selection/_validation.py:720: FutureWarning: Parameter 'base_estimator' of BaggingClassifier is deprecated in favor of 'estimator'. See BaggingClassifier's docstring for more details.\n",
      "  estimator = estimator.set_params(**cloned_parameters)\n",
      "/Users/nadiapreuvot/miniconda3/envs/nadia_machine_learning/lib/python3.10/site-packages/sklearn/model_selection/_validation.py:720: FutureWarning: Parameter 'base_estimator' of BaggingClassifier is deprecated in favor of 'estimator'. See BaggingClassifier's docstring for more details.\n",
      "  estimator = estimator.set_params(**cloned_parameters)\n",
      "/Users/nadiapreuvot/miniconda3/envs/nadia_machine_learning/lib/python3.10/site-packages/sklearn/model_selection/_validation.py:720: FutureWarning: Parameter 'base_estimator' of BaggingClassifier is deprecated in favor of 'estimator'. See BaggingClassifier's docstring for more details.\n",
      "  estimator = estimator.set_params(**cloned_parameters)\n",
      "/Users/nadiapreuvot/miniconda3/envs/nadia_machine_learning/lib/python3.10/site-packages/sklearn/model_selection/_validation.py:720: FutureWarning: Parameter 'base_estimator' of BaggingClassifier is deprecated in favor of 'estimator'. See BaggingClassifier's docstring for more details.\n",
      "  estimator = estimator.set_params(**cloned_parameters)\n",
      "/Users/nadiapreuvot/miniconda3/envs/nadia_machine_learning/lib/python3.10/site-packages/sklearn/model_selection/_validation.py:720: FutureWarning: Parameter 'base_estimator' of BaggingClassifier is deprecated in favor of 'estimator'. See BaggingClassifier's docstring for more details.\n",
      "  estimator = estimator.set_params(**cloned_parameters)\n",
      "/Users/nadiapreuvot/miniconda3/envs/nadia_machine_learning/lib/python3.10/site-packages/sklearn/model_selection/_validation.py:720: FutureWarning: Parameter 'base_estimator' of BaggingClassifier is deprecated in favor of 'estimator'. See BaggingClassifier's docstring for more details.\n",
      "  estimator = estimator.set_params(**cloned_parameters)\n"
     ]
    },
    {
     "name": "stdout",
     "output_type": "stream",
     "text": [
      "...Done.\n",
      "Best hyperparameters :  {'base_estimator__C': 20, 'n_estimators': 5}\n",
      "Best F1-score:  0.757150067056417\n",
      "F1-score on the test set:  0.8396946564885497\n"
     ]
    },
    {
     "name": "stderr",
     "output_type": "stream",
     "text": [
      "/Users/nadiapreuvot/miniconda3/envs/nadia_machine_learning/lib/python3.10/site-packages/sklearn/model_selection/_search.py:929: FutureWarning: Parameter 'base_estimator' of BaggingClassifier is deprecated in favor of 'estimator'. See BaggingClassifier's docstring for more details.\n",
      "  clone(base_estimator).set_params(**self.best_params_)\n"
     ]
    }
   ],
   "source": [
    "# Perform grid search\n",
    "print(\"Grid search...\")\n",
    "logistic_regression = LogisticRegression(max_iter = 1000) \n",
    "model = BaggingClassifier(estimator= logistic_regression)\n",
    "\n",
    "# Grid of values to be tested\n",
    "params = {\n",
    "    'base_estimator__C': [0.1, 1, 5, 10, 20], # base_estimator__ prefix because C is a parameter from LogisticRegression! \n",
    "    'n_estimators': [5, 10, 20, 30] # n_estimators is a hyperparameter of the ensemble method\n",
    "}\n",
    "print(params)\n",
    "gridsearch = GridSearchCV(model, param_grid = params, cv = 5, verbose = 1, scoring = \"f1\") # cv : the number of folds to be used for CV\n",
    "gridsearch.fit(X_train, Y_train)\n",
    "print(\"...Done.\")\n",
    "\n",
    "bagging_logistic_regression=gridsearch.best_estimator_\n",
    "best_f1_score=gridsearch.best_score_\n",
    "\n",
    "Y_pred = bagging_logistic_regression.predict(X_test)\n",
    "test_f1_score_baglog = f1_score(Y_test, Y_pred)\n",
    "\n",
    "print(\"Best hyperparameters : \", gridsearch.best_params_)\n",
    "print(\"Best F1-score: \", best_f1_score)\n",
    "print(\"F1-score on the test set: \",test_f1_score_baglog)\n"
   ]
  },
  {
   "cell_type": "markdown",
   "metadata": {},
   "source": [
    "<u>  Second method : Boosting"
   ]
  },
  {
   "cell_type": "code",
   "execution_count": 35,
   "metadata": {},
   "outputs": [
    {
     "name": "stdout",
     "output_type": "stream",
     "text": [
      "Grid search...\n",
      "{'estimator__C': [0.1, 1, 5, 10, 20], 'n_estimators': [5, 10, 20, 30]}\n",
      "Fitting 5 folds for each of 20 candidates, totalling 100 fits\n",
      "...Done.\n",
      "Best hyperparameters :  {'estimator__C': 20, 'n_estimators': 20}\n",
      "Best F1-score:  0.7553406375316001\n",
      "F1-score on the test set:  0.8153846153846154\n"
     ]
    }
   ],
   "source": [
    "# Perform grid search\n",
    "print(\"Grid search...\")\n",
    "logistic_regression = LogisticRegression(max_iter = 1000) # max_iter changed because of convergence warning\n",
    "model = AdaBoostClassifier (estimator = logistic) \n",
    "\n",
    "# Grid of values to be tested\n",
    "params = {\n",
    "    'estimator__C': [0.1, 1, 5, 10, 20], # base_estimator__ prefix because C is a parameter from LogisticRegression! \n",
    "    'n_estimators': [5, 10, 20, 30] # n_estimators is a hyperparameter of the ensemble method\n",
    "}\n",
    "print(params)\n",
    "gridsearch = GridSearchCV(model, param_grid = params, cv = 5, verbose = 1, scoring=\"f1\") # cv : the number of folds to be used for CV\n",
    "gridsearch.fit(X_train, Y_train)\n",
    "print(\"...Done.\")\n",
    "\n",
    "adaboost_logistic = gridsearch.best_estimator_\n",
    "best_f1_score = gridsearch.best_score_\n",
    "\n",
    "Y_pred = adaboost_logistic.predict(X_test)\n",
    "test_f1_score_boostlog = f1_score(Y_test, Y_pred)\n",
    "\n",
    "print(\"Best hyperparameters : \", gridsearch.best_params_)\n",
    "print(\"Best F1-score: \", best_f1_score)\n",
    "print(\"F1-score on the test set: \",test_f1_score_boostlog)"
   ]
  },
  {
   "cell_type": "markdown",
   "metadata": {},
   "source": [
    "<u> Third method : Voting"
   ]
  },
  {
   "cell_type": "code",
   "execution_count": 36,
   "metadata": {},
   "outputs": [
    {
     "name": "stdout",
     "output_type": "stream",
     "text": [
      "F1-score on test set: 0.8217054263565892\n"
     ]
    }
   ],
   "source": [
    "# Voting\n",
    "voting = VotingClassifier(estimators=[(\"logistic\", best_model_logistic),(\"bagging_logistic_regression\", bagging_logistic_regression), (\"adaboost_log\", adaboost_logistic), (\"best_model_svc\", best_model_svc)], voting='hard') # soft: use probabilities for voting\n",
    "voting.fit(X_train, Y_train)\n",
    "\n",
    "Y_pred = voting.predict(X_test)\n",
    "test_f1_score_vot = f1_score(Y_test, Y_pred)\n",
    "print(\"F1-score on test set:\", test_f1_score_vot)"
   ]
  },
  {
   "cell_type": "code",
   "execution_count": 37,
   "metadata": {},
   "outputs": [
    {
     "name": "stdout",
     "output_type": "stream",
     "text": [
      "The best f1-score is:  0.8396946564885497\n"
     ]
    }
   ],
   "source": [
    "test_f1_scores = [test_f1_score_log, test_f1_score_Random_Forest_model, test_f1_score_svc, \n",
    "                  test_f1_score_Random_Forest_model, test_f1_score_boostlog, test_f1_score_baglog, test_f1_score_vot]\n",
    "\n",
    "best_f1_score = max(test_f1_scores)\n",
    "\n",
    "print(\"The best f1-score is: \", best_f1_score)\n"
   ]
  },
  {
   "cell_type": "markdown",
   "metadata": {},
   "source": [
    "<center> <font color=\"bleu\"> <ins>Observations</font>\n",
    "</center>\n",
    "</br>\n",
    "\n",
    "The best model is a logistic regression with C = 20. Knowing that C corresponds to the regularization parameter.\n",
    "The greater the value of 'C', the less the regularization is strong.\n",
    "Thus, the model is less constrained and can adjust its coefficients more freely to fit the training data"
   ]
  },
  {
   "cell_type": "markdown",
   "metadata": {},
   "source": [
    "# <u>Part 4: Predictions on Test Data.csv\n"
   ]
  },
  {
   "cell_type": "code",
   "execution_count": 38,
   "metadata": {},
   "outputs": [
    {
     "name": "stdout",
     "output_type": "stream",
     "text": [
      "Prediction set without labels : (31620, 5)\n",
      "\n"
     ]
    },
    {
     "data": {
      "text/html": [
       "<div>\n",
       "<style scoped>\n",
       "    .dataframe tbody tr th:only-of-type {\n",
       "        vertical-align: middle;\n",
       "    }\n",
       "\n",
       "    .dataframe tbody tr th {\n",
       "        vertical-align: top;\n",
       "    }\n",
       "\n",
       "    .dataframe thead th {\n",
       "        text-align: right;\n",
       "    }\n",
       "</style>\n",
       "<table border=\"1\" class=\"dataframe\">\n",
       "  <thead>\n",
       "    <tr style=\"text-align: right;\">\n",
       "      <th></th>\n",
       "      <th>country</th>\n",
       "      <th>age</th>\n",
       "      <th>new_user</th>\n",
       "      <th>source</th>\n",
       "      <th>total_pages_visited</th>\n",
       "    </tr>\n",
       "  </thead>\n",
       "  <tbody>\n",
       "    <tr>\n",
       "      <th>0</th>\n",
       "      <td>UK</td>\n",
       "      <td>28</td>\n",
       "      <td>0</td>\n",
       "      <td>Seo</td>\n",
       "      <td>16</td>\n",
       "    </tr>\n",
       "    <tr>\n",
       "      <th>1</th>\n",
       "      <td>UK</td>\n",
       "      <td>22</td>\n",
       "      <td>1</td>\n",
       "      <td>Direct</td>\n",
       "      <td>5</td>\n",
       "    </tr>\n",
       "    <tr>\n",
       "      <th>2</th>\n",
       "      <td>China</td>\n",
       "      <td>32</td>\n",
       "      <td>1</td>\n",
       "      <td>Seo</td>\n",
       "      <td>1</td>\n",
       "    </tr>\n",
       "    <tr>\n",
       "      <th>3</th>\n",
       "      <td>US</td>\n",
       "      <td>32</td>\n",
       "      <td>1</td>\n",
       "      <td>Ads</td>\n",
       "      <td>6</td>\n",
       "    </tr>\n",
       "    <tr>\n",
       "      <th>4</th>\n",
       "      <td>China</td>\n",
       "      <td>25</td>\n",
       "      <td>0</td>\n",
       "      <td>Seo</td>\n",
       "      <td>3</td>\n",
       "    </tr>\n",
       "    <tr>\n",
       "      <th>...</th>\n",
       "      <td>...</td>\n",
       "      <td>...</td>\n",
       "      <td>...</td>\n",
       "      <td>...</td>\n",
       "      <td>...</td>\n",
       "    </tr>\n",
       "    <tr>\n",
       "      <th>31615</th>\n",
       "      <td>Germany</td>\n",
       "      <td>25</td>\n",
       "      <td>1</td>\n",
       "      <td>Seo</td>\n",
       "      <td>3</td>\n",
       "    </tr>\n",
       "    <tr>\n",
       "      <th>31616</th>\n",
       "      <td>US</td>\n",
       "      <td>36</td>\n",
       "      <td>1</td>\n",
       "      <td>Ads</td>\n",
       "      <td>7</td>\n",
       "    </tr>\n",
       "    <tr>\n",
       "      <th>31617</th>\n",
       "      <td>UK</td>\n",
       "      <td>33</td>\n",
       "      <td>1</td>\n",
       "      <td>Seo</td>\n",
       "      <td>5</td>\n",
       "    </tr>\n",
       "    <tr>\n",
       "      <th>31618</th>\n",
       "      <td>UK</td>\n",
       "      <td>25</td>\n",
       "      <td>1</td>\n",
       "      <td>Seo</td>\n",
       "      <td>14</td>\n",
       "    </tr>\n",
       "    <tr>\n",
       "      <th>31619</th>\n",
       "      <td>US</td>\n",
       "      <td>22</td>\n",
       "      <td>1</td>\n",
       "      <td>Seo</td>\n",
       "      <td>2</td>\n",
       "    </tr>\n",
       "  </tbody>\n",
       "</table>\n",
       "<p>31620 rows × 5 columns</p>\n",
       "</div>"
      ],
      "text/plain": [
       "       country  age  new_user  source  total_pages_visited\n",
       "0           UK   28         0     Seo                   16\n",
       "1           UK   22         1  Direct                    5\n",
       "2        China   32         1     Seo                    1\n",
       "3           US   32         1     Ads                    6\n",
       "4        China   25         0     Seo                    3\n",
       "...        ...  ...       ...     ...                  ...\n",
       "31615  Germany   25         1     Seo                    3\n",
       "31616       US   36         1     Ads                    7\n",
       "31617       UK   33         1     Seo                    5\n",
       "31618       UK   25         1     Seo                   14\n",
       "31619       US   22         1     Seo                    2\n",
       "\n",
       "[31620 rows x 5 columns]"
      ]
     },
     "execution_count": 38,
     "metadata": {},
     "output_type": "execute_result"
    }
   ],
   "source": [
    "data_without_labels = pd.read_csv(\"/Users/nadiapreuvot/Desktop/conversion_rate_project/conversion_data_test.csv\")\n",
    "\n",
    "print('Prediction set without labels :', data_without_labels.shape)\n",
    "print()\n",
    "data_without_labels"
   ]
  },
  {
   "cell_type": "code",
   "execution_count": 39,
   "metadata": {},
   "outputs": [
    {
     "name": "stdout",
     "output_type": "stream",
     "text": [
      "Encoding categorical features and standardizing numerical features...\n",
      "...Done\n",
      "[[-0.30757978 -1.44787285  3.29261583  0.          1.          0.\n",
      "   0.          1.        ]\n",
      " [-1.03604968  0.69066838  0.03212911  0.          1.          0.\n",
      "   1.          0.        ]\n",
      " [ 0.17806682  0.69066838 -1.15350243  0.          0.          0.\n",
      "   0.          1.        ]\n",
      " [ 0.17806682  0.69066838  0.32853699  0.          0.          1.\n",
      "   0.          0.        ]\n",
      " [-0.67181473 -1.44787285 -0.56068666  0.          0.          0.\n",
      "   0.          1.        ]]\n"
     ]
    }
   ],
   "source": [
    "print(\"Encoding categorical features and standardizing numerical features...\")\n",
    "\n",
    "data_without_labels = preprocessor.transform(data_without_labels)\n",
    "print(\"...Done\")\n",
    "print(data_without_labels[0:5,:])"
   ]
  },
  {
   "cell_type": "code",
   "execution_count": 40,
   "metadata": {},
   "outputs": [],
   "source": [
    "#let's create a dictionnary including the predictions\n",
    "data = {\n",
    "    'converted': best_model_logistic.predict(data_without_labels)\n",
    "}\n",
    "\n",
    "#let's create a new dataframe for the predictions of the model\n",
    "\n",
    "Y_predictions = pd.DataFrame(columns=['converted'],data=data)\n",
    "\n",
    "#let's create a csv file\n",
    "Y_predictions.to_csv('conversion_data_test_predictions.csv')"
   ]
  }
 ],
 "metadata": {
  "kernelspec": {
   "display_name": "Python 3",
   "language": "python",
   "name": "python3"
  },
  "language_info": {
   "codemirror_mode": {
    "name": "ipython",
    "version": 3
   },
   "file_extension": ".py",
   "mimetype": "text/x-python",
   "name": "python",
   "nbconvert_exporter": "python",
   "pygments_lexer": "ipython3",
   "version": "3.10.12"
  },
  "orig_nbformat": 4
 },
 "nbformat": 4,
 "nbformat_minor": 2
}
